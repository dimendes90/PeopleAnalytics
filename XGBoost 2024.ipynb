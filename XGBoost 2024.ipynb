{
 "cells": [
  {
   "cell_type": "code",
   "execution_count": null,
   "id": "489e5df7-bb89-4f17-9dc1-7a7c39824c2a",
   "metadata": {
    "tags": []
   },
   "outputs": [],
   "source": [
    "#ECHURN 2.0"
   ]
  },
  {
   "cell_type": "code",
   "execution_count": null,
   "id": "70fbe9c9-cab8-48d5-b135-bd2ece168fd5",
   "metadata": {
    "tags": []
   },
   "outputs": [],
   "source": [
    "!pip install xgboost scikit-learn pandas matplotlib seaborn"
   ]
  },
  {
   "cell_type": "code",
   "execution_count": null,
   "id": "fc6c143e-6f27-4c6f-be15-9e6a525258b7",
   "metadata": {
    "tags": []
   },
   "outputs": [],
   "source": [
    "import pandas as pd\n",
    "import numpy as np\n",
    "import xgboost as xgb\n",
    "from sklearn.model_selection import train_test_split\n",
    "from sklearn.metrics import classification_report, confusion_matrix, roc_auc_score, roc_curve\n",
    "import matplotlib.pyplot as plt\n",
    "import seaborn as sns\n",
    "#from sklearn.metrics import roc_auc_score\n"
   ]
  },
  {
   "cell_type": "code",
   "execution_count": null,
   "id": "0b0e81da-3423-4819-b287-25fa985c88e7",
   "metadata": {
    "tags": []
   },
   "outputs": [],
   "source": [
    "!pipdeptree"
   ]
  },
  {
   "cell_type": "code",
   "execution_count": null,
   "id": "43e1be03-55ae-413a-b4cd-e74b6bea8896",
   "metadata": {},
   "outputs": [],
   "source": [
    "#!pip install --upgrade scipy\n",
    "#!pip install --upgrade numpy\n",
    "!pip install numpy==1.23.0\n",
    "import numpy as np\n",
    "print(np.__version__)"
   ]
  },
  {
   "cell_type": "code",
   "execution_count": null,
   "id": "8b953d52-56dd-47f6-a41a-cf81cb22520c",
   "metadata": {
    "tags": []
   },
   "outputs": [],
   "source": [
    "#!pip install numpy\n",
    "#!pip install shap\n",
    "import shap"
   ]
  },
  {
   "cell_type": "code",
   "execution_count": null,
   "id": "761ea1a1-8fee-4e27-95ad-93e20a258b54",
   "metadata": {
    "tags": []
   },
   "outputs": [],
   "source": [
    "# Carregar os dados\n",
    "\n",
    "df = pd.read_excel('Base_ECHURN_202408.xlsx')  # Substitua 'seu_arquivo.xlsx' pelo caminho para o seu arquivo Excel\n",
    "\n",
    "#df.head()"
   ]
  },
  {
   "cell_type": "code",
   "execution_count": null,
   "id": "8ec9b96c-aa61-452b-a797-928051ed1055",
   "metadata": {
    "tags": []
   },
   "outputs": [],
   "source": [
    "df.columns"
   ]
  },
  {
   "cell_type": "code",
   "execution_count": null,
   "id": "9958232b-ed5c-4bbf-8dca-2c392db0eb58",
   "metadata": {
    "tags": []
   },
   "outputs": [],
   "source": [
    "df[df['level']!=0]\n",
    "df.drop (['flag_cx','desc_escolaridade','L_NPS_1','eNPS_1','var_conceito', 'num_report_total', 'tempo_promo', 'tempo_merito', 'aval_anterior'],axis=1,inplace=True)"
   ]
  },
  {
   "cell_type": "code",
   "execution_count": null,
   "id": "bb6b1da4-5b47-4352-82a8-b498fb51efa0",
   "metadata": {
    "tags": []
   },
   "outputs": [],
   "source": [
    "# Tratar valores nulos, se houver (exemplo: preenchendo com a média)\n",
    "df.fillna(df.mean(), inplace=True)"
   ]
  },
  {
   "cell_type": "code",
   "execution_count": null,
   "id": "8a762add-77c1-4dc3-a037-0014e488ec4e",
   "metadata": {
    "tags": []
   },
   "outputs": [],
   "source": [
    "# Salvar a coluna 'nome_funcionario' em uma variável temporária\n",
    "nomes_funcionarios = df['nome_funcionario']\n",
    "# Excluir a coluna 'nome_funcionario' antes de aplicar o get_dummies\n",
    "df_sem_nomes = df.drop(['nome_funcionario'], axis=1)\n",
    "# Codificar variáveis categóricas\n",
    "df_codificado = pd.get_dummies(df_sem_nomes, drop_first=True)\n",
    "# Adicionar a coluna 'nome_funcionario' de volta ao DataFrame codificado\n",
    "df_codificado['nome_funcionario'] = nomes_funcionarios"
   ]
  },
  {
   "cell_type": "code",
   "execution_count": null,
   "id": "88ba349b-4a5e-47ae-9701-d2bfdcb092ef",
   "metadata": {
    "tags": []
   },
   "outputs": [],
   "source": [
    "# Separar os dados de treino e teste com base na coluna 'treino', mantendo a coluna de identificação\n",
    "X_train = df_codificado[df_codificado['treino'] == 1].drop(['status', 'treino'], axis=1)\n",
    "y_train = df_codificado[df_codificado['treino'] == 1]['status']\n",
    "\n",
    "X_test = df_codificado[df_codificado['treino'] == 0].drop(['status', 'treino'], axis=1)\n",
    "y_test = df_codificado[df_codificado['treino'] == 0]['status']\n",
    "\n",
    "# Manter uma cópia do identificador dos funcionários (ex.: nome ou ID)\n",
    "nomes_test = df_codificado[df_codificado['treino'] == 0]['nome_funcionario']  \n"
   ]
  },
  {
   "cell_type": "code",
   "execution_count": null,
   "id": "b70962ea-2bc2-4145-90f1-315cb12892c0",
   "metadata": {
    "tags": []
   },
   "outputs": [],
   "source": [
    "# Remover a coluna 'nome_funcionario' de X_train e X_test antes de treinar o modelo\n",
    "X_train = X_train.drop(['nome_funcionario'], axis=1)\n",
    "X_test = X_test.drop(['nome_funcionario'], axis=1)\n"
   ]
  },
  {
   "cell_type": "code",
   "execution_count": null,
   "id": "005c478c-76d1-42a0-b36a-05fce3438a63",
   "metadata": {
    "tags": []
   },
   "outputs": [],
   "source": [
    "# Instanciar o modelo XGBoost\n",
    "model = xgb.XGBClassifier(use_label_encoder=False, eval_metric='logloss')"
   ]
  },
  {
   "cell_type": "code",
   "execution_count": null,
   "id": "b677bbe8-56dd-4b5a-a30d-99eec1fc27fe",
   "metadata": {
    "tags": []
   },
   "outputs": [],
   "source": [
    "# Construção de modelo simples\n",
    "#params = {\n",
    "#            'objective':'binary:logistic',\n",
    "#            'learning_rate': 1.0,   # 0-1 prevenir overfitting\n",
    "#            'max_depth': 4,         # Profundidade maxima por arvore\n",
    "#            'subsample':1,          # % de amostras por arvore\n",
    "#            'colsample_bytree':0.3, # % de cats por arvore\n",
    "#            'n_estimators':100,     # num de arvores\n",
    "#            'seed':42               # manter reprodutibilidade\n",
    "#        }\n",
    "\n",
    "# instantiate the classifier \n",
    "#model = XGBClassifier(**params)"
   ]
  },
  {
   "cell_type": "code",
   "execution_count": null,
   "id": "378b3b2d-22ef-4e73-9ab4-af7bc680266b",
   "metadata": {
    "tags": []
   },
   "outputs": [],
   "source": [
    "# Treinar o modelo\n",
    "model.fit(X_train, y_train)"
   ]
  },
  {
   "cell_type": "code",
   "execution_count": null,
   "id": "f193b1dc-df4d-42dc-b28a-03db70360268",
   "metadata": {
    "tags": []
   },
   "outputs": [],
   "source": [
    "# Fazer previsões no conjunto de teste\n",
    "y_pred = model.predict(X_test)\n",
    "y_pred_prob = model.predict_proba(X_test)[:, 1]  # Probabilidades de turnover\n",
    "\n",
    "# Mede score de acuracia\n",
    "from sklearn.metrics import accuracy_score\n",
    "print('XGBoost model accuracy score: {0:0.2f}'. format(\n",
    "    accuracy_score(y_test, y_pred)))"
   ]
  },
  {
   "cell_type": "code",
   "execution_count": null,
   "id": "c912d946-d48f-439c-a0fe-959ff0817e59",
   "metadata": {
    "tags": []
   },
   "outputs": [],
   "source": [
    "# Definir limiares para Baixo, Médio e Alto Risco\n",
    "def classificar_risco(prob):\n",
    "    if prob < 0.33:\n",
    "        return 'Baixo Risco'\n",
    "    elif prob < 0.67:\n",
    "        return 'Médio Risco'\n",
    "    else:\n",
    "        return 'Alto Risco'"
   ]
  },
  {
   "cell_type": "code",
   "execution_count": null,
   "id": "ddb5ec29-70c8-48f5-a569-2c217d81b5ac",
   "metadata": {
    "tags": []
   },
   "outputs": [],
   "source": [
    "# Aplicar a função de classificação de risco nas probabilidades\n",
    "risco_turnover = [classificar_risco(prob) for prob in y_pred_prob]\n",
    "\n",
    "# Criar um DataFrame com os resultados, incluindo o nome do funcionário e a classificação de risco\n",
    "df_resultado = pd.DataFrame({\n",
    "    'Nome Funcionario': nomes_test,  # Coluna de identificação\n",
    "    'Probabilidade de Turnover': y_pred_prob,\n",
    "    'Classificacao de Risco': risco_turnover\n",
    "})"
   ]
  },
  {
   "cell_type": "code",
   "execution_count": null,
   "id": "3ff60952-6f59-4330-be7f-b924b4c0beff",
   "metadata": {
    "tags": []
   },
   "outputs": [],
   "source": [
    "# Visualizar os primeiros resultados\n",
    "print(df_resultado.head())"
   ]
  },
  {
   "cell_type": "code",
   "execution_count": null,
   "id": "4f4ef7c0-5313-427a-ad00-dd4c9ce4ada3",
   "metadata": {
    "tags": []
   },
   "outputs": [],
   "source": [
    "# Avaliar o modelo\n",
    "# Matriz de Confusão\n",
    "conf_matrix = confusion_matrix(y_test, y_pred)\n",
    "\n",
    "# Visualizar a Matriz de Confusão\n",
    "plt.figure(figsize=(6, 4))\n",
    "sns.heatmap(conf_matrix, annot=True, fmt=\"d\", cmap='Blues')\n",
    "plt.title('Matriz de Confusão')\n",
    "plt.ylabel('True Label')\n",
    "plt.xlabel('Predicted Label')\n",
    "plt.show()\n",
    "# Relatório de Classificação\n",
    "print(\"\\nRelatório de Classificação:\\n\", classification_report(y_test, y_pred))\n"
   ]
  },
  {
   "cell_type": "code",
   "execution_count": null,
   "id": "994fe9a6-6022-4b68-a42a-9ce356edb7a4",
   "metadata": {
    "tags": []
   },
   "outputs": [],
   "source": [
    "roc_auc = roc_auc_score(y_test, y_pred_prob)"
   ]
  },
  {
   "cell_type": "code",
   "execution_count": null,
   "id": "92ea432f-350e-4109-80ac-5d98be5610d7",
   "metadata": {
    "tags": []
   },
   "outputs": [],
   "source": [
    "# Plotar a curva ROC\n",
    "fpr, tpr, _ = roc_curve(y_test, y_pred_prob)\n",
    "plt.figure(figsize=(6, 4))\n",
    "plt.plot(fpr, tpr, color='blue', label=f'AUC-ROC = {roc_auc:.2f}')\n",
    "plt.plot([0, 1], [0, 1], color='gray', linestyle='--')\n",
    "plt.xlabel('False Positive Rate')\n",
    "plt.ylabel('True Positive Rate')\n",
    "plt.title('Curva ROC')\n",
    "plt.legend()\n",
    "plt.show()"
   ]
  },
  {
   "cell_type": "code",
   "execution_count": null,
   "id": "2f7e9b49-ae32-498d-bbbf-80d9bbd2e942",
   "metadata": {
    "tags": []
   },
   "outputs": [],
   "source": [
    "# make sure the SHAP values add up to marginal predictions\n",
    "pred = model.predict(X_test, output_margin=True)\n",
    "explainer = shap.TreeExplainer(model)\n",
    "shap_values = explainer.shap_values(X_test)\n",
    "np.abs(shap_values.sum(1) + explainer.expected_value - pred).max()"
   ]
  },
  {
   "cell_type": "code",
   "execution_count": null,
   "id": "b73ef849-98da-4d01-8855-40a3e1cf741e",
   "metadata": {
    "tags": []
   },
   "outputs": [],
   "source": [
    "shap.summary_plot(shap_values, X_test, plot_type=\"bar\")\n"
   ]
  },
  {
   "cell_type": "code",
   "execution_count": null,
   "id": "9f39e7aa-43e8-4c8a-9051-a3e38cf5cc72",
   "metadata": {},
   "outputs": [],
   "source": [
    "shap.summary_plot(shap_values, X_test)"
   ]
  },
  {
   "cell_type": "code",
   "execution_count": null,
   "id": "453310a5-6c4e-4ad9-9494-d4651301746a",
   "metadata": {
    "tags": []
   },
   "outputs": [],
   "source": [
    "# Exportar para CSV para uma análise mais aprofundada ou relatório\n",
    "#df_resultado.to_csv('resultado_turnover.csv', index=False)\n",
    "df_resultado.to_excel('resultado_turnover.xlsx', index=False)"
   ]
  },
  {
   "cell_type": "code",
   "execution_count": null,
   "id": "50e3c81d-c058-4448-bd93-de39d6137d90",
   "metadata": {},
   "outputs": [],
   "source": []
  },
  {
   "cell_type": "code",
   "execution_count": null,
   "id": "2a2888b0-b520-4215-a932-3b834f6b4b06",
   "metadata": {},
   "outputs": [],
   "source": []
  },
  {
   "cell_type": "code",
   "execution_count": null,
   "id": "d9e10c72-1598-44ac-a8cd-02817183a876",
   "metadata": {
    "tags": []
   },
   "outputs": [],
   "source": [
    "# AUC-ROC\n",
    "roc_auc = roc_auc_score(y_test, y_pred_prob)\n",
    "print(f'\\nAUC-ROC: {roc_auc:.2f}')"
   ]
  },
  {
   "cell_type": "code",
   "execution_count": null,
   "id": "1534553e-39d9-455c-9325-71efeaa424c6",
   "metadata": {},
   "outputs": [],
   "source": []
  },
  {
   "cell_type": "code",
   "execution_count": null,
   "id": "0dc7c8eb-67c6-44e0-9034-5fa334a82f22",
   "metadata": {},
   "outputs": [],
   "source": []
  },
  {
   "cell_type": "code",
   "execution_count": null,
   "id": "a082f215-f8b3-4c0f-a0e6-afa1833e745f",
   "metadata": {},
   "outputs": [],
   "source": []
  },
  {
   "cell_type": "code",
   "execution_count": null,
   "id": "e61e0d86-87c4-44b1-9d40-34be91c88337",
   "metadata": {},
   "outputs": [],
   "source": []
  },
  {
   "cell_type": "code",
   "execution_count": null,
   "id": "4f2ce394-8533-45c6-9d62-393f9b08d914",
   "metadata": {},
   "outputs": [],
   "source": []
  },
  {
   "cell_type": "code",
   "execution_count": null,
   "id": "439fd850-cd4a-40ed-b64e-b185cf3ba89d",
   "metadata": {},
   "outputs": [],
   "source": []
  },
  {
   "cell_type": "code",
   "execution_count": null,
   "id": "6cea1d4d-8fb4-4d6a-abfb-49592b28489b",
   "metadata": {},
   "outputs": [],
   "source": []
  },
  {
   "cell_type": "code",
   "execution_count": null,
   "id": "1ac05ee2-bfe3-4e5b-8a7b-778a62208a84",
   "metadata": {},
   "outputs": [],
   "source": []
  },
  {
   "cell_type": "code",
   "execution_count": null,
   "id": "810f00e2-1d82-4285-bbc6-9fec2cbac520",
   "metadata": {},
   "outputs": [],
   "source": []
  },
  {
   "cell_type": "code",
   "execution_count": null,
   "id": "6c5cafdd-3696-44ab-ac05-5557a1ef8911",
   "metadata": {},
   "outputs": [],
   "source": []
  },
  {
   "cell_type": "code",
   "execution_count": null,
   "id": "3abd2fbf-d351-4d99-8dc2-00b6f7bf3f36",
   "metadata": {},
   "outputs": [],
   "source": []
  },
  {
   "cell_type": "code",
   "execution_count": null,
   "id": "20906ba1-9c14-42a8-88b8-d6610e90ab82",
   "metadata": {},
   "outputs": [],
   "source": []
  },
  {
   "cell_type": "code",
   "execution_count": null,
   "id": "e63a68a9-6def-404b-959b-1ae2cf2c8229",
   "metadata": {},
   "outputs": [],
   "source": []
  },
  {
   "cell_type": "code",
   "execution_count": null,
   "id": "88114b37-0ce3-4e12-92d6-d73ae5d366f5",
   "metadata": {},
   "outputs": [],
   "source": []
  },
  {
   "cell_type": "code",
   "execution_count": null,
   "id": "58b61dc8-5f71-4feb-b30b-89165c002d0d",
   "metadata": {},
   "outputs": [],
   "source": []
  },
  {
   "cell_type": "code",
   "execution_count": null,
   "id": "abfbfd9a-5dab-4fd7-885f-e1e51c2aac77",
   "metadata": {},
   "outputs": [],
   "source": []
  },
  {
   "cell_type": "code",
   "execution_count": null,
   "id": "d733b656-e5ca-44a0-9685-e1c89f0ddc1f",
   "metadata": {},
   "outputs": [],
   "source": []
  },
  {
   "cell_type": "code",
   "execution_count": null,
   "id": "1af2f2d4-fa33-4394-9893-69515bf3ad17",
   "metadata": {},
   "outputs": [],
   "source": []
  },
  {
   "cell_type": "code",
   "execution_count": null,
   "id": "2eceb646-fa8a-4c86-aa27-988823f5eb5a",
   "metadata": {
    "tags": []
   },
   "outputs": [],
   "source": [
    "#df[df['treino']==0]\n",
    "\n",
    "# Separando os dados de treino e teste com base na coluna 'treino', mantendo a coluna de identificação\n",
    "X_train = df[df['treino'] == 1].drop(['status', 'treino','num_span','agrupado_nivel','macro_especialidade','num_report_total','desc_escolaridade'], axis=1)\n",
    "y_train = df[df['treino'] == 1]['status']\n",
    "\n",
    "X_test = df[df['treino'] == 0].drop(['status', 'treino','num_span','agrupado_nivel','macro_especialidade','num_report_total','desc_escolaridade'], axis=1)\n",
    "y_test = df[df['treino'] == 0]['status']\n",
    "\n",
    "# Manter uma cópia do identificador dos funcionários (ex.: nome ou ID)\n",
    "nomes_test = df[df['treino'] == 0]['ID']  # Substitua 'nome_funcionario' pelo nome da sua coluna de identificação\n",
    "\n",
    "#df.drop (['treino','num_span','ID','agrupado_nivel','macro_especialidade','num_report_total','desc_escolaridade'],axis=1,inplace=True)"
   ]
  },
  {
   "cell_type": "code",
   "execution_count": null,
   "id": "775175c1-1e9b-4c23-b87b-0e51460cf76b",
   "metadata": {
    "tags": []
   },
   "outputs": [],
   "source": [
    "# Tratar valores nulos, se houver (exemplo: preenchendo com a média)\n",
    "df.fillna(df.mean(), inplace=True)"
   ]
  },
  {
   "cell_type": "code",
   "execution_count": null,
   "id": "1403a617-7150-4755-9583-c8714b2e41a2",
   "metadata": {
    "tags": []
   },
   "outputs": [],
   "source": [
    "# Codificar variáveis categóricas\n",
    "df = pd.get_dummies(df, drop_first=True)"
   ]
  },
  {
   "cell_type": "code",
   "execution_count": null,
   "id": "47a795f8-1922-4275-921b-368fe7e60223",
   "metadata": {
    "tags": []
   },
   "outputs": [],
   "source": [
    "# Separar variáveis independentes (X) e dependente (y)\n",
    "X = df.drop('status', axis=1)  # Substitua 'alvo' pela coluna de saída (ex.: se o funcionário saiu ou não)\n",
    "y = df['status']"
   ]
  },
  {
   "cell_type": "code",
   "execution_count": null,
   "id": "b9e21abe-111a-4992-8c96-e07991186142",
   "metadata": {
    "tags": []
   },
   "outputs": [],
   "source": [
    "X_train, X_test, y_train, y_test = train_test_split(X, y, test_size=0.3, random_state=42)"
   ]
  },
  {
   "cell_type": "code",
   "execution_count": null,
   "id": "03716cab-fd61-4bb3-b932-dd6e84297406",
   "metadata": {
    "tags": []
   },
   "outputs": [],
   "source": [
    "# Instanciar o modelo XGBoost\n",
    "model = xgb.XGBClassifier(use_label_encoder=False, eval_metric='logloss')\n",
    "# Treinar o modelo\n",
    "model.fit(X_train, y_train)"
   ]
  },
  {
   "cell_type": "code",
   "execution_count": null,
   "id": "581c7835-e7d4-4efd-88f4-a4e724c86fb9",
   "metadata": {
    "tags": []
   },
   "outputs": [],
   "source": [
    "# Fazer previsões no conjunto de teste\n",
    "y_pred = model.predict(X_test)\n",
    "y_pred_prob = model.predict_proba(X_test)[:, 1]  # Probabilidades para AUC-ROC"
   ]
  },
  {
   "cell_type": "code",
   "execution_count": null,
   "id": "45b8eea3-90c9-4f62-9c68-357803b7be8e",
   "metadata": {
    "tags": []
   },
   "outputs": [],
   "source": [
    "# Matriz de Confusão\n",
    "conf_matrix = confusion_matrix(y_test, y_pred)\n"
   ]
  },
  {
   "cell_type": "code",
   "execution_count": null,
   "id": "f4f981c8-5535-4d51-8a55-5527b956138d",
   "metadata": {
    "tags": []
   },
   "outputs": [],
   "source": [
    "# Visualizando a matriz de confusão\n",
    "plt.figure(figsize=(6, 4))\n",
    "sns.heatmap(conf_matrix, annot=True, fmt=\"d\", cmap='Blues')\n",
    "plt.title('Matriz de Confusão')\n",
    "plt.ylabel('True Label')\n",
    "plt.xlabel('Predicted Label')\n",
    "plt.show()"
   ]
  },
  {
   "cell_type": "code",
   "execution_count": null,
   "id": "1fe007b2-d2fd-45bf-a873-c79d58d4e8ab",
   "metadata": {
    "tags": []
   },
   "outputs": [],
   "source": [
    "# Relatório de classificação\n",
    "print(classification_report(y_test, y_pred))"
   ]
  },
  {
   "cell_type": "code",
   "execution_count": null,
   "id": "014c125c-ec6a-46a0-bc25-2dcaccd7c3e1",
   "metadata": {
    "tags": []
   },
   "outputs": [],
   "source": [
    "# Calcular AUC-ROC\n",
    "roc_auc = roc_auc_score(y_test, y_pred_prob)\n",
    "print(f'AUC-ROC: {roc_auc:.2f}')"
   ]
  },
  {
   "cell_type": "code",
   "execution_count": null,
   "id": "ddd04151-3970-4304-81f0-825f1a6a7129",
   "metadata": {
    "tags": []
   },
   "outputs": [],
   "source": [
    "# Plotar a curva ROC\n",
    "fpr, tpr, _ = roc_curve(y_test, y_pred_prob)\n",
    "plt.figure(figsize=(6, 4))\n",
    "plt.plot(fpr, tpr, color='blue', label=f'AUC-ROC = {roc_auc:.2f}')\n",
    "plt.plot([0, 1], [0, 1], color='gray', linestyle='--')\n",
    "plt.xlabel('False Positive Rate')\n",
    "plt.ylabel('True Positive Rate')\n",
    "plt.title('Curva ROC')\n",
    "plt.legend()\n",
    "plt.show()"
   ]
  },
  {
   "cell_type": "code",
   "execution_count": null,
   "id": "79c02a23-5281-4953-bef2-8050236c86c2",
   "metadata": {
    "tags": []
   },
   "outputs": [],
   "source": [
    "# Definir limiares para Baixo, Médio e Alto Risco\n",
    "def classificar_risco(prob):\n",
    "    if prob < 0.33:\n",
    "        return 'Baixo Risco'\n",
    "    elif prob < 0.67:\n",
    "        return 'Médio Risco'\n",
    "    else:\n",
    "        return 'Alto Risco'"
   ]
  },
  {
   "cell_type": "code",
   "execution_count": null,
   "id": "d27e3742-f717-4ab8-b4ad-2e6a5ddae751",
   "metadata": {
    "tags": []
   },
   "outputs": [],
   "source": [
    "# Aplicar a função de classificação\n",
    "risco_turnover = [classificar_risco(prob) for prob in y_pred_prob]"
   ]
  },
  {
   "cell_type": "code",
   "execution_count": null,
   "id": "ec99b9e4-bb04-4928-bfca-e5ee409f0875",
   "metadata": {
    "tags": []
   },
   "outputs": [],
   "source": [
    "# Visualizar a classificação de risco para os funcionários no conjunto de teste\n",
    "df_resultado = pd.DataFrame({'Probabilidade': y_pred_prob, 'Risco de Turnover': risco_turnover})\n",
    "print(df_resultado.head())"
   ]
  },
  {
   "cell_type": "code",
   "execution_count": null,
   "id": "f6147895-565a-4e8b-85cf-3dcfa623072a",
   "metadata": {},
   "outputs": [],
   "source": []
  }
 ],
 "metadata": {
  "kernelspec": {
   "display_name": "Python [conda env:datalake]",
   "language": "python",
   "name": "conda-env-datalake-py"
  },
  "language_info": {
   "codemirror_mode": {
    "name": "ipython",
    "version": 3
   },
   "file_extension": ".py",
   "mimetype": "text/x-python",
   "name": "python",
   "nbconvert_exporter": "python",
   "pygments_lexer": "ipython3",
   "version": "3.8.8"
  }
 },
 "nbformat": 4,
 "nbformat_minor": 5
}
