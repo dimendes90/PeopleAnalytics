{
 "cells": [
  {
   "cell_type": "code",
   "execution_count": 3,
   "id": "836eeddb-b11e-4b0e-8047-872c05bb8869",
   "metadata": {
    "tags": []
   },
   "outputs": [],
   "source": [
    "import pandas as pd\n",
    "import numpy as np\n",
    "import matplotlib.pyplot as plt\n",
    "from statsmodels.tsa.arima.model import ARIMA\n"
   ]
  },
  {
   "cell_type": "code",
   "execution_count": 8,
   "id": "f1d3e733-95bc-49b3-a94e-162a4b0dad0f",
   "metadata": {
    "tags": []
   },
   "outputs": [],
   "source": [
    "# Dados fornecidos\n",
    "series_0_6 = [65, 82, 85, 84, 68, 70, 60, 74, 73, 62, 63, 73, 73]\n",
    "series_6_12 = [60, 58, 52, 45, 18, 28, 55, 61, 68, 64, 56, 55, 43]\n",
    "series_12_36 = [60, 61, 56, 56, 37, 38, 40, 42, 43, 38, 35, 40, 35]\n",
    "series_36 = [60, 60, 61, 53, 43, 42, 48, 51, 51, 50, 38, 38, 36]\n"
   ]
  },
  {
   "cell_type": "code",
   "execution_count": 11,
   "id": "98e758a4-0e4f-4070-a3ff-83f21a92346e",
   "metadata": {
    "tags": []
   },
   "outputs": [],
   "source": [
    "# Função para ajustar o modelo ARIMA e fazer previsões\n",
    "def forecast_arima(series, steps=6):\n",
    "    model = ARIMA(series, order=(1, 1, 1))\n",
    "    model_fit = model.fit()\n",
    "    forecast = model_fit.forecast(steps=steps)\n",
    "    return forecast\n"
   ]
  },
  {
   "cell_type": "code",
   "execution_count": 12,
   "id": "fd028b96-8a34-4737-938f-61241aa0fbfe",
   "metadata": {
    "tags": []
   },
   "outputs": [
    {
     "name": "stderr",
     "output_type": "stream",
     "text": [
      "/opt/conda/lib/python3.10/site-packages/statsmodels/tsa/statespace/sarimax.py:966: UserWarning: Non-stationary starting autoregressive parameters found. Using zeros as starting parameters.\n",
      "  warn('Non-stationary starting autoregressive parameters'\n",
      "/opt/conda/lib/python3.10/site-packages/statsmodels/tsa/statespace/sarimax.py:978: UserWarning: Non-invertible starting MA parameters found. Using zeros as starting parameters.\n",
      "  warn('Non-invertible starting MA parameters found.'\n",
      "/opt/conda/lib/python3.10/site-packages/statsmodels/base/model.py:604: ConvergenceWarning: Maximum Likelihood optimization failed to converge. Check mle_retvals\n",
      "  warnings.warn(\"Maximum Likelihood optimization failed to \"\n"
     ]
    }
   ],
   "source": [
    "# Fazer previsões para os próximos 6 meses\n",
    "forecast_0_6 = forecast_arima(series_0_6)\n",
    "forecast_6_12 = forecast_arima(series_6_12)\n",
    "forecast_12_36 = forecast_arima(series_12_36)\n",
    "forecast_36 = forecast_arima(series_36)\n"
   ]
  },
  {
   "cell_type": "code",
   "execution_count": 13,
   "id": "6251a756-ede8-4c85-9212-2f30650f3996",
   "metadata": {
    "tags": []
   },
   "outputs": [
    {
     "name": "stdout",
     "output_type": "stream",
     "text": [
      "Previsão para 0-6 meses: [72.07293918 71.69452636 71.54006372 71.47701431 71.45127845 71.44077344]\n",
      "Previsão para 6-12 meses: [35.96812122 38.62714884 37.62166679 38.00187877 37.85810579 37.91247196]\n",
      "Previsão para 12-36 meses: [36.6710706  35.00004354 36.67102706 35.00008708 36.67098352 35.00013062]\n",
      "Previsão para +36 meses: [34.8873095  34.90115503 34.90098274 34.90098489 34.90098486 34.90098486]\n"
     ]
    }
   ],
   "source": [
    "# Exibir previsões\n",
    "print(\"Previsão para 0-6 meses:\", forecast_0_6)\n",
    "print(\"Previsão para 6-12 meses:\", forecast_6_12)\n",
    "print(\"Previsão para 12-36 meses:\", forecast_12_36)\n",
    "print(\"Previsão para +36 meses:\", forecast_36)"
   ]
  }
 ],
 "metadata": {
  "kernelspec": {
   "display_name": "Python 3 (ipykernel)",
   "language": "python",
   "name": "python3"
  },
  "language_info": {
   "codemirror_mode": {
    "name": "ipython",
    "version": 3
   },
   "file_extension": ".py",
   "mimetype": "text/x-python",
   "name": "python",
   "nbconvert_exporter": "python",
   "pygments_lexer": "ipython3",
   "version": "3.10.9"
  }
 },
 "nbformat": 4,
 "nbformat_minor": 5
}
