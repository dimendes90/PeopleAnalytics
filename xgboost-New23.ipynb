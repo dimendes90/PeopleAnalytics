{
 "cells": [
  {
   "cell_type": "markdown",
   "id": "subsequent-desktop",
   "metadata": {},
   "source": [
    "#  e-CHURN XGBoost"
   ]
  },
  {
   "cell_type": "markdown",
   "id": "dominican-chamber",
   "metadata": {},
   "source": [
    "### Material de referência.\n",
    "xgboos: https://gist.github.com/pb111/cc341409081dffa5e9eaf60d79562a03\n",
    "shap: https://shap.readthedocs.io/en/latest/example_notebooks/tabular_examples/tree_based_models/Basic%20SHAP%20Interaction%20Value%20Example%20in%20XGBoost.html\n",
    "lime: https://coderzcolumn.com/tutorials/machine-learning/how-to-use-lime-to-understand-sklearn-models-predictions#lime_tabular\n",
    "\n",
    "\n",
    "### Etapas:\n",
    "- Carga de bibliotecas e bases\n",
    "- Preparação de dados\n",
    "- Roda modelo simples\n",
    "- Faz validação cruzada\n",
    "- Pega aprendizados de modelo e variáveis e aplica modelo otimizado"
   ]
  },
  {
   "cell_type": "markdown",
   "id": "liked-xerox",
   "metadata": {},
   "source": [
    "## Carga de bibliotecas e bases"
   ]
  },
  {
   "cell_type": "code",
   "execution_count": 1,
   "id": "c214d207-bbb2-4fab-a8a3-302548ed3928",
   "metadata": {
    "tags": []
   },
   "outputs": [
    {
     "name": "stdout",
     "output_type": "stream",
     "text": [
      "Requirement already satisfied: xgboost in /opt/conda/lib/python3.10/site-packages (2.1.1)\n",
      "Requirement already satisfied: nvidia-nccl-cu12 in /opt/conda/lib/python3.10/site-packages (from xgboost) (2.23.4)\n",
      "Requirement already satisfied: numpy in /opt/conda/lib/python3.10/site-packages (from xgboost) (1.23.5)\n",
      "Requirement already satisfied: scipy in /opt/conda/lib/python3.10/site-packages (from xgboost) (1.9.0)\n",
      "Collecting skimpy\n",
      "  Using cached skimpy-0.0.15-py3-none-any.whl (16 kB)\n",
      "Collecting rich<14.0,>=10.9\n",
      "  Using cached rich-13.8.1-py3-none-any.whl (241 kB)\n",
      "Collecting typeguard==4.2.1\n",
      "  Using cached typeguard-4.2.1-py3-none-any.whl (34 kB)\n",
      "Collecting pyarrow<17,>=13\n",
      "  Using cached pyarrow-16.1.0-cp310-cp310-manylinux_2_28_x86_64.whl (40.8 MB)\n",
      "Requirement already satisfied: Pygments<3.0.0,>=2.10.0 in /opt/conda/lib/python3.10/site-packages (from skimpy) (2.14.0)\n",
      "Requirement already satisfied: click<9.0.0,>=8.1.6 in /opt/conda/lib/python3.10/site-packages (from skimpy) (8.1.7)\n",
      "Collecting pandas<3.0.0,>=2.0.3\n",
      "  Using cached pandas-2.2.3-cp310-cp310-manylinux_2_17_x86_64.manylinux2014_x86_64.whl (13.1 MB)\n",
      "Requirement already satisfied: ipykernel<7.0.0,>=6.7.0 in /opt/conda/lib/python3.10/site-packages (from skimpy) (6.25.1)\n",
      "Requirement already satisfied: numpy<2.0.0,>=1.22.2 in /opt/conda/lib/python3.10/site-packages (from skimpy) (1.23.5)\n",
      "Collecting polars<0.21,>=0.19\n",
      "  Using cached polars-0.20.31-cp38-abi3-manylinux_2_17_x86_64.manylinux2014_x86_64.whl (28.8 MB)\n",
      "Collecting typing-extensions>=4.10.0\n",
      "  Using cached typing_extensions-4.12.2-py3-none-any.whl (37 kB)\n",
      "Requirement already satisfied: comm>=0.1.1 in /opt/conda/lib/python3.10/site-packages (from ipykernel<7.0.0,>=6.7.0->skimpy) (0.1.2)\n",
      "Requirement already satisfied: traitlets>=5.4.0 in /opt/conda/lib/python3.10/site-packages (from ipykernel<7.0.0,>=6.7.0->skimpy) (5.9.0)\n",
      "Requirement already satisfied: ipython>=7.23.1 in /opt/conda/lib/python3.10/site-packages (from ipykernel<7.0.0,>=6.7.0->skimpy) (8.11.0)\n",
      "Requirement already satisfied: jupyter-client>=6.1.12 in /opt/conda/lib/python3.10/site-packages (from ipykernel<7.0.0,>=6.7.0->skimpy) (8.0.3)\n",
      "Requirement already satisfied: jupyter-core!=5.0.*,>=4.12 in /opt/conda/lib/python3.10/site-packages (from ipykernel<7.0.0,>=6.7.0->skimpy) (5.2.0)\n",
      "Requirement already satisfied: packaging in /opt/conda/lib/python3.10/site-packages (from ipykernel<7.0.0,>=6.7.0->skimpy) (23.0)\n",
      "Requirement already satisfied: pyzmq>=20 in /opt/conda/lib/python3.10/site-packages (from ipykernel<7.0.0,>=6.7.0->skimpy) (25.0.0)\n",
      "Requirement already satisfied: nest-asyncio in /opt/conda/lib/python3.10/site-packages (from ipykernel<7.0.0,>=6.7.0->skimpy) (1.5.6)\n",
      "Requirement already satisfied: tornado>=6.1 in /opt/conda/lib/python3.10/site-packages (from ipykernel<7.0.0,>=6.7.0->skimpy) (6.2)\n",
      "Requirement already satisfied: psutil in /opt/conda/lib/python3.10/site-packages (from ipykernel<7.0.0,>=6.7.0->skimpy) (5.9.4)\n",
      "Requirement already satisfied: debugpy>=1.6.5 in /opt/conda/lib/python3.10/site-packages (from ipykernel<7.0.0,>=6.7.0->skimpy) (1.6.6)\n",
      "Requirement already satisfied: matplotlib-inline>=0.1 in /opt/conda/lib/python3.10/site-packages (from ipykernel<7.0.0,>=6.7.0->skimpy) (0.1.6)\n",
      "Collecting tzdata>=2022.7\n",
      "  Using cached tzdata-2024.2-py2.py3-none-any.whl (346 kB)\n",
      "Requirement already satisfied: python-dateutil>=2.8.2 in /opt/conda/lib/python3.10/site-packages (from pandas<3.0.0,>=2.0.3->skimpy) (2.8.2)\n",
      "Requirement already satisfied: pytz>=2020.1 in /opt/conda/lib/python3.10/site-packages (from pandas<3.0.0,>=2.0.3->skimpy) (2022.7.1)\n",
      "Collecting markdown-it-py>=2.2.0\n",
      "  Using cached markdown_it_py-3.0.0-py3-none-any.whl (87 kB)\n",
      "Requirement already satisfied: decorator in /opt/conda/lib/python3.10/site-packages (from ipython>=7.23.1->ipykernel<7.0.0,>=6.7.0->skimpy) (5.1.1)\n",
      "Requirement already satisfied: backcall in /opt/conda/lib/python3.10/site-packages (from ipython>=7.23.1->ipykernel<7.0.0,>=6.7.0->skimpy) (0.2.0)\n",
      "Requirement already satisfied: pickleshare in /opt/conda/lib/python3.10/site-packages (from ipython>=7.23.1->ipykernel<7.0.0,>=6.7.0->skimpy) (0.7.5)\n",
      "Requirement already satisfied: prompt-toolkit!=3.0.37,<3.1.0,>=3.0.30 in /opt/conda/lib/python3.10/site-packages (from ipython>=7.23.1->ipykernel<7.0.0,>=6.7.0->skimpy) (3.0.38)\n",
      "Requirement already satisfied: pexpect>4.3 in /opt/conda/lib/python3.10/site-packages (from ipython>=7.23.1->ipykernel<7.0.0,>=6.7.0->skimpy) (4.8.0)\n",
      "Requirement already satisfied: jedi>=0.16 in /opt/conda/lib/python3.10/site-packages (from ipython>=7.23.1->ipykernel<7.0.0,>=6.7.0->skimpy) (0.18.2)\n",
      "Requirement already satisfied: stack-data in /opt/conda/lib/python3.10/site-packages (from ipython>=7.23.1->ipykernel<7.0.0,>=6.7.0->skimpy) (0.6.2)\n",
      "Requirement already satisfied: platformdirs>=2.5 in /opt/conda/lib/python3.10/site-packages (from jupyter-core!=5.0.*,>=4.12->ipykernel<7.0.0,>=6.7.0->skimpy) (3.1.1)\n",
      "Collecting mdurl~=0.1\n",
      "  Using cached mdurl-0.1.2-py3-none-any.whl (10.0 kB)\n",
      "Requirement already satisfied: six>=1.5 in /opt/conda/lib/python3.10/site-packages (from python-dateutil>=2.8.2->pandas<3.0.0,>=2.0.3->skimpy) (1.16.0)\n",
      "Requirement already satisfied: parso<0.9.0,>=0.8.0 in /opt/conda/lib/python3.10/site-packages (from jedi>=0.16->ipython>=7.23.1->ipykernel<7.0.0,>=6.7.0->skimpy) (0.8.3)\n",
      "Requirement already satisfied: ptyprocess>=0.5 in /opt/conda/lib/python3.10/site-packages (from pexpect>4.3->ipython>=7.23.1->ipykernel<7.0.0,>=6.7.0->skimpy) (0.7.0)\n",
      "Requirement already satisfied: wcwidth in /opt/conda/lib/python3.10/site-packages (from prompt-toolkit!=3.0.37,<3.1.0,>=3.0.30->ipython>=7.23.1->ipykernel<7.0.0,>=6.7.0->skimpy) (0.2.6)\n",
      "Requirement already satisfied: executing>=1.2.0 in /opt/conda/lib/python3.10/site-packages (from stack-data->ipython>=7.23.1->ipykernel<7.0.0,>=6.7.0->skimpy) (1.2.0)\n",
      "Requirement already satisfied: asttokens>=2.1.0 in /opt/conda/lib/python3.10/site-packages (from stack-data->ipython>=7.23.1->ipykernel<7.0.0,>=6.7.0->skimpy) (2.2.1)\n",
      "Requirement already satisfied: pure-eval in /opt/conda/lib/python3.10/site-packages (from stack-data->ipython>=7.23.1->ipykernel<7.0.0,>=6.7.0->skimpy) (0.2.2)\n",
      "Installing collected packages: tzdata, typing-extensions, pyarrow, polars, mdurl, typeguard, pandas, markdown-it-py, rich, skimpy\n",
      "  Attempting uninstall: typing-extensions\n",
      "    Found existing installation: typing_extensions 4.5.0\n",
      "    Uninstalling typing_extensions-4.5.0:\n",
      "      Successfully uninstalled typing_extensions-4.5.0\n",
      "  Attempting uninstall: pyarrow\n",
      "    Found existing installation: pyarrow 10.0.1\n",
      "    Uninstalling pyarrow-10.0.1:\n",
      "      Successfully uninstalled pyarrow-10.0.1\n",
      "  Attempting uninstall: pandas\n",
      "    Found existing installation: pandas 1.4.3\n",
      "    Uninstalling pandas-1.4.3:\n",
      "      Successfully uninstalled pandas-1.4.3\n",
      "\u001b[31mERROR: pip's dependency resolver does not currently take into account all the packages that are installed. This behaviour is the source of the following dependency conflicts.\n",
      "awswrangler 2.20.0 requires pandas!=1.5.0,<2.0.0,<=1.5.1,>=1.2.0, but you have pandas 2.2.3 which is incompatible.\n",
      "awswrangler 2.20.0 requires pyarrow<10.1.0,>=2.0.0, but you have pyarrow 16.1.0 which is incompatible.\u001b[0m\u001b[31m\n",
      "\u001b[0mSuccessfully installed markdown-it-py-3.0.0 mdurl-0.1.2 pandas-2.2.3 polars-0.20.31 pyarrow-16.1.0 rich-13.8.1 skimpy-0.0.15 typeguard-4.2.1 typing-extensions-4.12.2 tzdata-2024.2\n",
      "Collecting shap\n",
      "  Using cached shap-0.46.0-cp310-cp310-manylinux_2_12_x86_64.manylinux2010_x86_64.manylinux_2_17_x86_64.manylinux2014_x86_64.whl (540 kB)\n",
      "Collecting slicer==0.0.8\n",
      "  Using cached slicer-0.0.8-py3-none-any.whl (15 kB)\n",
      "Requirement already satisfied: packaging>20.9 in /opt/conda/lib/python3.10/site-packages (from shap) (23.0)\n",
      "Requirement already satisfied: pandas in /opt/conda/lib/python3.10/site-packages (from shap) (2.2.3)\n",
      "Requirement already satisfied: scikit-learn in /opt/conda/lib/python3.10/site-packages (from shap) (1.1.2)\n",
      "Requirement already satisfied: scipy in /opt/conda/lib/python3.10/site-packages (from shap) (1.9.0)\n",
      "Collecting numba\n",
      "  Using cached numba-0.60.0-cp310-cp310-manylinux2014_x86_64.manylinux_2_17_x86_64.whl (3.7 MB)\n",
      "Collecting cloudpickle\n",
      "  Using cached cloudpickle-3.0.0-py3-none-any.whl (20 kB)\n",
      "Requirement already satisfied: tqdm>=4.27.0 in /opt/conda/lib/python3.10/site-packages (from shap) (4.65.0)\n",
      "Requirement already satisfied: numpy in /opt/conda/lib/python3.10/site-packages (from shap) (1.23.5)\n",
      "Collecting llvmlite<0.44,>=0.43.0dev0\n",
      "  Using cached llvmlite-0.43.0-cp310-cp310-manylinux_2_17_x86_64.manylinux2014_x86_64.whl (43.9 MB)\n",
      "Requirement already satisfied: python-dateutil>=2.8.2 in /opt/conda/lib/python3.10/site-packages (from pandas->shap) (2.8.2)\n",
      "Requirement already satisfied: tzdata>=2022.7 in /opt/conda/lib/python3.10/site-packages (from pandas->shap) (2024.2)\n",
      "Requirement already satisfied: pytz>=2020.1 in /opt/conda/lib/python3.10/site-packages (from pandas->shap) (2022.7.1)\n",
      "Requirement already satisfied: joblib>=1.0.0 in /opt/conda/lib/python3.10/site-packages (from scikit-learn->shap) (1.3.2)\n",
      "Requirement already satisfied: threadpoolctl>=2.0.0 in /opt/conda/lib/python3.10/site-packages (from scikit-learn->shap) (3.2.0)\n",
      "Requirement already satisfied: six>=1.5 in /opt/conda/lib/python3.10/site-packages (from python-dateutil>=2.8.2->pandas->shap) (1.16.0)\n",
      "Installing collected packages: slicer, llvmlite, cloudpickle, numba, shap\n",
      "Successfully installed cloudpickle-3.0.0 llvmlite-0.43.0 numba-0.60.0 shap-0.46.0 slicer-0.0.8\n",
      "Requirement already satisfied: openpyxl in /opt/conda/lib/python3.10/site-packages (3.0.10)\n",
      "Requirement already satisfied: et_xmlfile in /opt/conda/lib/python3.10/site-packages (from openpyxl) (1.1.0)\n",
      "Collecting lime\n",
      "  Using cached lime-0.2.0.1-py3-none-any.whl\n",
      "Requirement already satisfied: tqdm in /opt/conda/lib/python3.10/site-packages (from lime) (4.65.0)\n",
      "Requirement already satisfied: scikit-learn>=0.18 in /opt/conda/lib/python3.10/site-packages (from lime) (1.1.2)\n",
      "Collecting scikit-image>=0.12\n",
      "  Using cached scikit_image-0.24.0-cp310-cp310-manylinux_2_17_x86_64.manylinux2014_x86_64.whl (14.9 MB)\n",
      "Requirement already satisfied: matplotlib in /opt/conda/lib/python3.10/site-packages (from lime) (3.5.2)\n",
      "Requirement already satisfied: numpy in /opt/conda/lib/python3.10/site-packages (from lime) (1.23.5)\n",
      "Requirement already satisfied: scipy in /opt/conda/lib/python3.10/site-packages (from lime) (1.9.0)\n",
      "Collecting networkx>=2.8\n",
      "  Using cached networkx-3.3-py3-none-any.whl (1.7 MB)\n",
      "Collecting tifffile>=2022.8.12\n",
      "  Using cached tifffile-2024.9.20-py3-none-any.whl (228 kB)\n",
      "Collecting imageio>=2.33\n",
      "  Using cached imageio-2.35.1-py3-none-any.whl (315 kB)\n",
      "Requirement already satisfied: packaging>=21 in /opt/conda/lib/python3.10/site-packages (from scikit-image>=0.12->lime) (23.0)\n",
      "Requirement already satisfied: pillow>=9.1 in /opt/conda/lib/python3.10/site-packages (from scikit-image>=0.12->lime) (10.0.0)\n",
      "Collecting lazy-loader>=0.4\n",
      "  Using cached lazy_loader-0.4-py3-none-any.whl (12 kB)\n",
      "Requirement already satisfied: threadpoolctl>=2.0.0 in /opt/conda/lib/python3.10/site-packages (from scikit-learn>=0.18->lime) (3.2.0)\n",
      "Requirement already satisfied: joblib>=1.0.0 in /opt/conda/lib/python3.10/site-packages (from scikit-learn>=0.18->lime) (1.3.2)\n",
      "Requirement already satisfied: python-dateutil>=2.7 in /opt/conda/lib/python3.10/site-packages (from matplotlib->lime) (2.8.2)\n",
      "Requirement already satisfied: pyparsing>=2.2.1 in /opt/conda/lib/python3.10/site-packages (from matplotlib->lime) (3.1.1)\n",
      "Requirement already satisfied: kiwisolver>=1.0.1 in /opt/conda/lib/python3.10/site-packages (from matplotlib->lime) (1.4.4)\n",
      "Requirement already satisfied: fonttools>=4.22.0 in /opt/conda/lib/python3.10/site-packages (from matplotlib->lime) (4.42.1)\n",
      "Requirement already satisfied: cycler>=0.10 in /opt/conda/lib/python3.10/site-packages (from matplotlib->lime) (0.11.0)\n",
      "Requirement already satisfied: six>=1.5 in /opt/conda/lib/python3.10/site-packages (from python-dateutil>=2.7->matplotlib->lime) (1.16.0)\n",
      "Installing collected packages: tifffile, networkx, lazy-loader, imageio, scikit-image, lime\n",
      "Successfully installed imageio-2.35.1 lazy-loader-0.4 lime-0.2.0.1 networkx-3.3 scikit-image-0.24.0 tifffile-2024.9.20\n",
      "Requirement already satisfied: pandas in /opt/conda/lib/python3.10/site-packages (2.2.3)\n",
      "Requirement already satisfied: pytz>=2020.1 in /opt/conda/lib/python3.10/site-packages (from pandas) (2022.7.1)\n",
      "Requirement already satisfied: tzdata>=2022.7 in /opt/conda/lib/python3.10/site-packages (from pandas) (2024.2)\n",
      "Requirement already satisfied: numpy>=1.22.4 in /opt/conda/lib/python3.10/site-packages (from pandas) (1.23.5)\n",
      "Requirement already satisfied: python-dateutil>=2.8.2 in /opt/conda/lib/python3.10/site-packages (from pandas) (2.8.2)\n",
      "Requirement already satisfied: six>=1.5 in /opt/conda/lib/python3.10/site-packages (from python-dateutil>=2.8.2->pandas) (1.16.0)\n"
     ]
    }
   ],
   "source": [
    "!pip install xgboost\n",
    "!pip install skimpy\n",
    "!pip install shap\n",
    "!pip install openpyxl\n",
    "!pip install lime\n",
    "!pip install pandas"
   ]
  },
  {
   "cell_type": "code",
   "execution_count": 2,
   "id": "understood-twelve",
   "metadata": {
    "tags": []
   },
   "outputs": [],
   "source": [
    "# Carregar bibliotecas e setar parâmetros\n",
    "#!pip install xgboost\n",
    "#!pip install skimpy\n",
    "#!pip install shap\n",
    "#!pip install openpyxl\n",
    "#!pip install lime\n",
    "#!pip install pandas\n",
    "#!pip install --upgrade pandas==1.2\n",
    "\n",
    "import pandas as pd\n",
    "import xgboost as xgb\n",
    "from xgboost import XGBClassifier\n",
    "from xgboost import cv\n",
    "import lime #LIME package\n",
    "import lime.lime_tabular #the type of LIIME analysis we’ll do\n",
    "from lime import lime_tabular\n",
    "from sklearn.model_selection import train_test_split\n",
    "from sklearn.metrics import accuracy_score\n",
    "from sklearn.metrics import classification_report, confusion_matrix\n",
    "#from skimpy import clean_columns #limpar nomes de coluna\n",
    "import matplotlib.pyplot as plt #graficos\n",
    "import re #expressoes regulares\n",
    "import numpy as np\n",
    "import seaborn as sns\n",
    "import shap\n",
    "%matplotlib inline\n",
    "import warnings\n",
    "warnings.filterwarnings('ignore')"
   ]
  },
  {
   "cell_type": "code",
   "execution_count": null,
   "id": "089f9a83-4cde-423f-b9eb-ed83e44e788d",
   "metadata": {
    "tags": []
   },
   "outputs": [],
   "source": [
    "# Ler e preparar base\n",
    "df = pd.read_excel('Base_ECHURN_202408.xlsx')\n"
   ]
  },
  {
   "cell_type": "code",
   "execution_count": null,
   "id": "619c29e4-8502-4243-859b-25b102abffe5",
   "metadata": {
    "tags": []
   },
   "outputs": [],
   "source": [
    "df.columns"
   ]
  },
  {
   "cell_type": "code",
   "execution_count": null,
   "id": "15609a76-61ef-4fba-a697-d7fbfa372393",
   "metadata": {
    "tags": []
   },
   "outputs": [],
   "source": [
    "\n",
    "print(df.head(1).to_string())"
   ]
  },
  {
   "cell_type": "code",
   "execution_count": null,
   "id": "afraid-russell",
   "metadata": {
    "tags": []
   },
   "outputs": [],
   "source": [
    "\n",
    "\n",
    "#df = df[df['cod_empresa']==1]\n",
    "\n",
    "df2 = df[df['treino']==0]\n",
    "df[df['treino']==1]\n",
    "\n",
    "\n",
    "df2.drop (['treino','num_span','ID','agrupado_nivel','macro_especialidade','num_report_total','desc_escolaridade'],axis=1,inplace=True)\n",
    "df.drop (['treino','num_span','ID','agrupado_nivel','macro_especialidade','num_report_total','desc_escolaridade'],axis=1,inplace=True)\n",
    "\n",
    "\n",
    "X = df.drop(['status'], axis=1)\n",
    "y = df['status']\n",
    "\n",
    "Xt = df2.drop(['status'], axis=1)\n",
    "yt = df2['status']"
   ]
  },
  {
   "cell_type": "markdown",
   "id": "extraordinary-cursor",
   "metadata": {},
   "source": [
    "## Pre tratamento dos dados"
   ]
  },
  {
   "cell_type": "code",
   "execution_count": null,
   "id": "vocational-conversation",
   "metadata": {
    "tags": []
   },
   "outputs": [],
   "source": [
    "# Tratamento dos dados\n",
    "\n",
    "# Quebra variaveis categoricas em multiplas 1 e 0\n",
    "#sexo de um homem vira sexo_masculino=1 e sexo_feminino=0\n",
    "X = pd.get_dummies(X)\n",
    "\n",
    "#conserta nomes das colunas\n",
    "#X = clean_columns(X)\n",
    "\n",
    "# Visão das primeiras linhas da tabela\n",
    "#X.head(5)\n",
    "\n",
    "print(X.head(2).to_string())"
   ]
  },
  {
   "cell_type": "code",
   "execution_count": null,
   "id": "82bb0747-4eca-4047-9e3a-31ce0d7f77fc",
   "metadata": {},
   "outputs": [],
   "source": []
  },
  {
   "cell_type": "code",
   "execution_count": null,
   "id": "42873431-7ba3-49a8-b678-bf4d8ed5eead",
   "metadata": {
    "tags": []
   },
   "outputs": [],
   "source": [
    "X.columns\n"
   ]
  },
  {
   "cell_type": "code",
   "execution_count": null,
   "id": "e57beb33-b92e-461a-9144-50ac70517991",
   "metadata": {},
   "outputs": [],
   "source": []
  },
  {
   "cell_type": "code",
   "execution_count": null,
   "id": "wired-seven",
   "metadata": {
    "tags": []
   },
   "outputs": [],
   "source": [
    "# Prepara os dados para o modelo\n",
    "\n",
    "# Converte tabela para data_dmatrix (formato de dado otimizado para o xgboost)\n",
    "data_dmatrix = xgb.DMatrix(data=X,label=y)\n",
    "\n",
    "# Quebra os dados em treino e teste\n",
    "X_train, X_test, y_train, y_test = train_test_split(X, y, test_size = 0.3, random_state = 42)"
   ]
  },
  {
   "cell_type": "code",
   "execution_count": null,
   "id": "acoustic-bidder",
   "metadata": {
    "tags": []
   },
   "outputs": [],
   "source": [
    "# Construção de modelo simples\n",
    "params = {\n",
    "            'objective':'binary:logistic',\n",
    "            'learning_rate': 1.0,   # 0-1 prevenir overfitting\n",
    "            'max_depth': 4,         # Profundidade maxima por arvore\n",
    "            'subsample':1,          # % de amostras por arvore\n",
    "            'colsample_bytree':0.3, # % de cats por arvore\n",
    "            'n_estimators':100,     # num de arvores\n",
    "            'seed':42               # manter reprodutibilidade\n",
    "        }\n",
    "\n",
    "# instantiate the classifier \n",
    "xgb_clf = XGBClassifier(**params)\n",
    "\n",
    "# fit the classifier to the training data\n",
    "xgb_clf.fit(X_train, y_train)"
   ]
  },
  {
   "cell_type": "code",
   "execution_count": null,
   "id": "mature-watch",
   "metadata": {
    "tags": []
   },
   "outputs": [],
   "source": [
    "# Faz previsao no conjunto de teste\n",
    "y_pred = xgb_clf.predict(X_test)\n",
    "\n",
    "# Mede score de acuracia\n",
    "from sklearn.metrics import accuracy_score\n",
    "print('XGBoost model accuracy score: {0:0.2f}'. format(\n",
    "    accuracy_score(y_test, y_pred)))"
   ]
  },
  {
   "cell_type": "markdown",
   "id": "cardiac-sample",
   "metadata": {},
   "source": [
    "## Fazer validação cruzada"
   ]
  },
  {
   "cell_type": "code",
   "execution_count": null,
   "id": "numerical-fancy",
   "metadata": {
    "tags": []
   },
   "outputs": [],
   "source": [
    "params = {\"objective\":\"binary:logistic\",\n",
    "          'colsample_bytree': 0.3,\n",
    "          'eta':0.05,\n",
    "          'learning_rate': 1.0,\n",
    "          'max_depth': 4, \n",
    "          'alpha': 10\n",
    "         }\n",
    "\n",
    "xgb_cv = cv(dtrain=data_dmatrix, params=params, nfold=3,\n",
    "            num_boost_round=1000, early_stopping_rounds=100,\n",
    "            metrics=\"error\", as_pandas=True, seed=42)\n",
    "\n",
    "#xgb_cv.head(5)\n",
    "\n",
    "print(xgb_cv.head(1).to_string())"
   ]
  },
  {
   "cell_type": "code",
   "execution_count": null,
   "id": "behind-blocking",
   "metadata": {},
   "outputs": [],
   "source": [
    "fig, ax = plt.subplots()\n",
    "ax.scatter(xgb_cv.index.values.astype(int),\n",
    "           xgb_cv['test-error-mean'])\n",
    "#ax.plot([y.min(), y.max()], [y.min(), y.max()], 'k--', lw=4)\n",
    "ax.set_xlabel('Rounds')\n",
    "ax.set_ylabel('Erro')\n",
    "ax.set_title('Erro_por_Rounds')\n",
    "plt.show();"
   ]
  },
  {
   "cell_type": "code",
   "execution_count": null,
   "id": "proprietary-serum",
   "metadata": {},
   "outputs": [],
   "source": [
    "xgb.plot_importance(xgb_clf)\n",
    "plt.rcParams['figure.figsize'] = [6, 4]\n",
    "plt.show()"
   ]
  },
  {
   "cell_type": "markdown",
   "id": "rough-declaration",
   "metadata": {},
   "source": [
    "## Coleta aprendizados e aplica um modelo bom"
   ]
  },
  {
   "cell_type": "code",
   "execution_count": null,
   "id": "modular-thriller",
   "metadata": {},
   "outputs": [],
   "source": [
    "# Prepara os dados para o modelo\n",
    "X_original = X\n",
    "lista_var = ['clas_faixa_neon','level','tempo_nivel',\n",
    "                'tempo_cargo','num_tempo_casa','Key_Talent',\n",
    "                'num_tempo_casa','flag_socio','num_estado_civil', 'media_BH','num_nivel'\n",
    "            ]\n",
    "X = X_original[lista_var]\n",
    "# Converte tabela para data_dmatrix (formato de dado otimizado para o xgboost)\n",
    "data_dmatrix = xgb.DMatrix(data=X,label=y)\n",
    "# Quebra os dados em treino e teste\n",
    "X_train, X_test, y_train, y_test = train_test_split(X, y, test_size = 0.3, random_state = 42)\n",
    "# Construção de modelo simples\n",
    "params = {\n",
    "            'objective':'binary:logistic',\n",
    "            'learning_rate': 1.0,   # Ajuda a prevenir overfitting\n",
    "            'max_depth': 4,         # Profundidade maxima por arvore\n",
    "            'subsample':1,          # % de amostras por arvore\n",
    "            'colsample_bytree':0.3, # % de cats por arvore\n",
    "            'n_estimators':100,      # num de arvores\n",
    "            'seed':42               # manter reprodutibilidade\n",
    "        }\n",
    "# instantiate the classifier \n",
    "xgb_clf = XGBClassifier(**params)\n",
    "# fit the classifier to the training data\n",
    "xgb_clf.fit(X_train, y_train)\n",
    "# Faz previsao no conjunto de teste\n",
    "y_pred = xgb_clf.predict(X_test)\n",
    "\n",
    "# Mede score de acuracia\n",
    "from sklearn.metrics import accuracy_score\n",
    "print('XGBoost model accuracy score: {0:0.2f}'. format(\n",
    "    accuracy_score(y_test, y_pred)))\n"
   ]
  },
  {
   "cell_type": "code",
   "execution_count": null,
   "id": "aware-academy",
   "metadata": {},
   "outputs": [],
   "source": [
    "from sklearn.metrics import confusion_matrix\n",
    "\n",
    "#print(confusion_matrix(y_test, xgb_clf.predict(X_test)))\n",
    "\n",
    "cm = confusion_matrix(y_test, xgb_clf.predict(X_test))\n",
    "  \n",
    "TN = cm[0][0]\n",
    "TP = cm[1][1]\n",
    "FN = cm[1][0]\n",
    "FP = cm[0][1]\n",
    "  \n",
    "print(cm)\n",
    "print('Model Testing Accuracy = \"{0:0.2f}!\"'.format(  (TP + TN) / (TP + TN + FN + FP)))\n",
    "print()"
   ]
  },
  {
   "cell_type": "code",
   "execution_count": null,
   "id": "durable-switch",
   "metadata": {},
   "outputs": [],
   "source": [
    "print(classification_report(y_test, xgb_clf.predict(X_test)))"
   ]
  },
  {
   "cell_type": "code",
   "execution_count": null,
   "id": "smooth-envelope",
   "metadata": {},
   "outputs": [],
   "source": []
  },
  {
   "cell_type": "code",
   "execution_count": null,
   "id": "current-arrival",
   "metadata": {},
   "outputs": [],
   "source": [
    "# make sure the SHAP values add up to marginal predictions\n",
    "pred = xgb_clf.predict(X, output_margin=True)\n",
    "explainer = shap.TreeExplainer(xgb_clf)\n",
    "shap_values = explainer.shap_values(X)\n",
    "np.abs(shap_values.sum(1) + explainer.expected_value - pred).max()"
   ]
  },
  {
   "cell_type": "code",
   "execution_count": null,
   "id": "comparable-chancellor",
   "metadata": {},
   "outputs": [],
   "source": [
    "shap.summary_plot(shap_values, X, plot_type=\"bar\")\n"
   ]
  },
  {
   "cell_type": "code",
   "execution_count": null,
   "id": "educated-scheduling",
   "metadata": {},
   "outputs": [],
   "source": [
    "shap.summary_plot(shap_values, X)"
   ]
  },
  {
   "cell_type": "code",
   "execution_count": null,
   "id": "latin-selection",
   "metadata": {},
   "outputs": [],
   "source": []
  },
  {
   "cell_type": "code",
   "execution_count": null,
   "id": "pleasant-academy",
   "metadata": {},
   "outputs": [],
   "source": [
    "# Monta tabela para comparaçã ode resultados\n",
    "status = pd.DataFrame(y_test.reset_index(drop=True))\n",
    "status.rename({'Status': 'status'}, axis=1, inplace=True)\n",
    "pred = pd.DataFrame(y_pred.tolist(), columns =['pred'])\n",
    "status['pred'] = pred\n",
    "\n",
    "status.to_excel(r'status.xlsx', index = False)\n",
    "\n",
    "#status#.T"
   ]
  },
  {
   "cell_type": "code",
   "execution_count": null,
   "id": "aerial-imperial",
   "metadata": {},
   "outputs": [],
   "source": [
    "# if a feature has 10 or less unique values then treat it as categorical\n",
    "categorical_features = np.argwhere(np.array([len(set(X_train.values[:,x]))\n",
    "for x in range(X_train.values.shape[1])]) <= 10).flatten()\n",
    "# LIME has one explainer for all models\n",
    "explainer = lime.lime_tabular.LimeTabularExplainer(\n",
    "X_train.values,\n",
    "feature_names=X_train.columns.values.tolist(),\n",
    "class_names=['Status'],\n",
    "categorical_features=categorical_features,\n",
    "verbose=True, mode='regression')"
   ]
  },
  {
   "cell_type": "code",
   "execution_count": null,
   "id": "sufficient-cookie",
   "metadata": {
    "tags": []
   },
   "outputs": [],
   "source": [
    "expXGB = explainer.explain_instance(\n",
    "X_test.values[2],\n",
    "xgb_clf.predict, num_features=9)\n",
    "expXGB.show_in_notebook(show_table=True)"
   ]
  }
 ],
 "metadata": {
  "kernelspec": {
   "display_name": "Python 3 (ipykernel)",
   "language": "python",
   "name": "python3"
  },
  "language_info": {
   "codemirror_mode": {
    "name": "ipython",
    "version": 3
   },
   "file_extension": ".py",
   "mimetype": "text/x-python",
   "name": "python",
   "nbconvert_exporter": "python",
   "pygments_lexer": "ipython3",
   "version": "3.10.9"
  }
 },
 "nbformat": 4,
 "nbformat_minor": 5
}
