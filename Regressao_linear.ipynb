{
 "cells": [
  {
   "cell_type": "code",
   "execution_count": 1,
   "id": "247bf2c6-94fd-4c4d-8a38-417402f51def",
   "metadata": {
    "tags": []
   },
   "outputs": [
    {
     "name": "stdout",
     "output_type": "stream",
     "text": [
      "Requirement already satisfied: scikit-learn in /opt/conda/lib/python3.10/site-packages (1.1.2)\n",
      "Requirement already satisfied: threadpoolctl>=2.0.0 in /opt/conda/lib/python3.10/site-packages (from scikit-learn) (3.2.0)\n",
      "Requirement already satisfied: scipy>=1.3.2 in /opt/conda/lib/python3.10/site-packages (from scikit-learn) (1.9.0)\n",
      "Requirement already satisfied: numpy>=1.17.3 in /opt/conda/lib/python3.10/site-packages (from scikit-learn) (1.23.5)\n",
      "Requirement already satisfied: joblib>=1.0.0 in /opt/conda/lib/python3.10/site-packages (from scikit-learn) (1.3.2)\n"
     ]
    }
   ],
   "source": [
    "#!pip install scikit-learn\n",
    "\n",
    "import numpy as np\n",
    "import statsmodels.api as sm\n",
    "\n",
    "from sklearn.linear_model import LinearRegression\n",
    "from sklearn.model_selection import cross_val_score\n"
   ]
  },
  {
   "cell_type": "code",
   "execution_count": 4,
   "id": "d636d6cc-6d3b-43ea-b229-7ad99765a0b0",
   "metadata": {
    "tags": []
   },
   "outputs": [],
   "source": [
    "# Dados de entrada\n",
    "X = np.array([0,1,2,3,4,5,6,7,8,9,10,11,12,13,14]).reshape(-1, 1)  # Números de índice\n",
    "y = np.array([0.83,0.42,0.00,1.29,1.32,0.98,2.16,1.35,0.45,0.57,0.57,3.61,1.70,0.60,1.10])  # Valores da série de dados\n"
   ]
  },
  {
   "cell_type": "code",
   "execution_count": 5,
   "id": "41b69329-1377-4a44-a804-0d6e53137ff0",
   "metadata": {
    "tags": []
   },
   "outputs": [
    {
     "data": {
      "text/html": [
       "<style>#sk-container-id-1 {color: black;background-color: white;}#sk-container-id-1 pre{padding: 0;}#sk-container-id-1 div.sk-toggleable {background-color: white;}#sk-container-id-1 label.sk-toggleable__label {cursor: pointer;display: block;width: 100%;margin-bottom: 0;padding: 0.3em;box-sizing: border-box;text-align: center;}#sk-container-id-1 label.sk-toggleable__label-arrow:before {content: \"▸\";float: left;margin-right: 0.25em;color: #696969;}#sk-container-id-1 label.sk-toggleable__label-arrow:hover:before {color: black;}#sk-container-id-1 div.sk-estimator:hover label.sk-toggleable__label-arrow:before {color: black;}#sk-container-id-1 div.sk-toggleable__content {max-height: 0;max-width: 0;overflow: hidden;text-align: left;background-color: #f0f8ff;}#sk-container-id-1 div.sk-toggleable__content pre {margin: 0.2em;color: black;border-radius: 0.25em;background-color: #f0f8ff;}#sk-container-id-1 input.sk-toggleable__control:checked~div.sk-toggleable__content {max-height: 200px;max-width: 100%;overflow: auto;}#sk-container-id-1 input.sk-toggleable__control:checked~label.sk-toggleable__label-arrow:before {content: \"▾\";}#sk-container-id-1 div.sk-estimator input.sk-toggleable__control:checked~label.sk-toggleable__label {background-color: #d4ebff;}#sk-container-id-1 div.sk-label input.sk-toggleable__control:checked~label.sk-toggleable__label {background-color: #d4ebff;}#sk-container-id-1 input.sk-hidden--visually {border: 0;clip: rect(1px 1px 1px 1px);clip: rect(1px, 1px, 1px, 1px);height: 1px;margin: -1px;overflow: hidden;padding: 0;position: absolute;width: 1px;}#sk-container-id-1 div.sk-estimator {font-family: monospace;background-color: #f0f8ff;border: 1px dotted black;border-radius: 0.25em;box-sizing: border-box;margin-bottom: 0.5em;}#sk-container-id-1 div.sk-estimator:hover {background-color: #d4ebff;}#sk-container-id-1 div.sk-parallel-item::after {content: \"\";width: 100%;border-bottom: 1px solid gray;flex-grow: 1;}#sk-container-id-1 div.sk-label:hover label.sk-toggleable__label {background-color: #d4ebff;}#sk-container-id-1 div.sk-serial::before {content: \"\";position: absolute;border-left: 1px solid gray;box-sizing: border-box;top: 0;bottom: 0;left: 50%;z-index: 0;}#sk-container-id-1 div.sk-serial {display: flex;flex-direction: column;align-items: center;background-color: white;padding-right: 0.2em;padding-left: 0.2em;position: relative;}#sk-container-id-1 div.sk-item {position: relative;z-index: 1;}#sk-container-id-1 div.sk-parallel {display: flex;align-items: stretch;justify-content: center;background-color: white;position: relative;}#sk-container-id-1 div.sk-item::before, #sk-container-id-1 div.sk-parallel-item::before {content: \"\";position: absolute;border-left: 1px solid gray;box-sizing: border-box;top: 0;bottom: 0;left: 50%;z-index: -1;}#sk-container-id-1 div.sk-parallel-item {display: flex;flex-direction: column;z-index: 1;position: relative;background-color: white;}#sk-container-id-1 div.sk-parallel-item:first-child::after {align-self: flex-end;width: 50%;}#sk-container-id-1 div.sk-parallel-item:last-child::after {align-self: flex-start;width: 50%;}#sk-container-id-1 div.sk-parallel-item:only-child::after {width: 0;}#sk-container-id-1 div.sk-dashed-wrapped {border: 1px dashed gray;margin: 0 0.4em 0.5em 0.4em;box-sizing: border-box;padding-bottom: 0.4em;background-color: white;}#sk-container-id-1 div.sk-label label {font-family: monospace;font-weight: bold;display: inline-block;line-height: 1.2em;}#sk-container-id-1 div.sk-label-container {text-align: center;}#sk-container-id-1 div.sk-container {/* jupyter's `normalize.less` sets `[hidden] { display: none; }` but bootstrap.min.css set `[hidden] { display: none !important; }` so we also need the `!important` here to be able to override the default hidden behavior on the sphinx rendered scikit-learn.org. See: https://github.com/scikit-learn/scikit-learn/issues/21755 */display: inline-block !important;position: relative;}#sk-container-id-1 div.sk-text-repr-fallback {display: none;}</style><div id=\"sk-container-id-1\" class=\"sk-top-container\"><div class=\"sk-text-repr-fallback\"><pre>LinearRegression()</pre><b>In a Jupyter environment, please rerun this cell to show the HTML representation or trust the notebook. <br />On GitHub, the HTML representation is unable to render, please try loading this page with nbviewer.org.</b></div><div class=\"sk-container\" hidden><div class=\"sk-item\"><div class=\"sk-estimator sk-toggleable\"><input class=\"sk-toggleable__control sk-hidden--visually\" id=\"sk-estimator-id-1\" type=\"checkbox\" checked><label for=\"sk-estimator-id-1\" class=\"sk-toggleable__label sk-toggleable__label-arrow\">LinearRegression</label><div class=\"sk-toggleable__content\"><pre>LinearRegression()</pre></div></div></div></div></div>"
      ],
      "text/plain": [
       "LinearRegression()"
      ]
     },
     "execution_count": 5,
     "metadata": {},
     "output_type": "execute_result"
    }
   ],
   "source": [
    "# Crie um modelo de regressão linear\n",
    "model = LinearRegression()\n",
    "# Treine o modelo nos dados\n",
    "model.fit(X, y)\n",
    "\n"
   ]
  },
  {
   "cell_type": "code",
   "execution_count": 6,
   "id": "25f73404-270f-40c8-87ab-0666d52fbd39",
   "metadata": {
    "tags": []
   },
   "outputs": [
    {
     "name": "stdout",
     "output_type": "stream",
     "text": [
      "Scores de validação cruzada: [-6.35232936 -5.77995777 -0.2697896  -0.06575229 -3.93752452]\n"
     ]
    }
   ],
   "source": [
    "# Use validação cruzada para avaliar o modelo\n",
    "scores = cross_val_score(model, X, y, cv=5)\n",
    "print(\"Scores de validação cruzada:\", scores)\n"
   ]
  },
  {
   "cell_type": "code",
   "execution_count": 7,
   "id": "04a30989-4072-4c54-bcd1-81b51b903feb",
   "metadata": {
    "tags": []
   },
   "outputs": [
    {
     "name": "stdout",
     "output_type": "stream",
     "text": [
      "Coeficiente (inclinação): 0.05703571428571428\n",
      "Intercepto: 0.73075\n"
     ]
    },
    {
     "data": {
      "image/png": "[encoded data removed]",
      "text/plain": [
       "<Figure size 640x480 with 1 Axes>"
      ]
     },
     "metadata": {},
     "output_type": "display_data"
    }
   ],
   "source": [
    "# Faça previsões para a série completa (índices de 1 a 9)\n",
    "predictions = model.predict(X)\n",
    "\n",
    "# Imprima os coeficientes da regressão\n",
    "print(f\"Coeficiente (inclinação): {model.coef_[0]}\")\n",
    "print(f\"Intercepto: {model.intercept_}\")\n",
    "# Visualize as previsões\n",
    "import matplotlib.pyplot as plt\n",
    "plt.scatter(X, y, label='Dados reais')\n",
    "plt.plot(X, predictions, color='red', label='Regressão Linear')\n",
    "plt.xlabel('Índice')\n",
    "plt.ylabel('Valores da Série')\n",
    "plt.legend()\n",
    "plt.show()"
   ]
  },
  {
   "cell_type": "code",
   "execution_count": 8,
   "id": "78dfc0c4-1dde-4d65-8639-7edd3b12684e",
   "metadata": {
    "tags": []
   },
   "outputs": [
    {
     "name": "stdout",
     "output_type": "stream",
     "text": [
      "Média dos resíduos: 5.181040781584064e-17\n",
      "Variância dos resíduos: 0.6666893095238094\n"
     ]
    }
   ],
   "source": [
    "# Examine os resíduos\n",
    "residuals = y - predictions\n",
    "print(\"Média dos resíduos:\", np.mean(residuals))\n",
    "print(\"Variância dos resíduos:\", np.var(residuals))\n"
   ]
  },
  {
   "cell_type": "code",
   "execution_count": 9,
   "id": "dc24d280-8fac-4339-9657-72de432f7660",
   "metadata": {
    "tags": []
   },
   "outputs": [
    {
     "name": "stdout",
     "output_type": "stream",
     "text": [
      "Previsão para o índice 15: 1.5862857142857143\n",
      "Previsão para o índice 16: 1.6433214285714284\n",
      "Previsão para o índice 17: 1.700357142857143\n",
      "Previsão para o índice 18: 1.757392857142857\n",
      "Previsão para o índice 19: 1.8144285714285713\n",
      "Previsão para o índice 20: 1.8714642857142856\n"
     ]
    }
   ],
   "source": [
    "# Adicione os próximos 3 índices\n",
    "X_pred = np.array([15,16,17,18,19,20]).reshape(-1, 1)\n",
    "# Faça previsões para os próximos 3 valores\n",
    "predictions_pred = model.predict(X_pred)\n",
    "# Imprima as previsões para os próximos 3 valores\n",
    "for i, prediction in enumerate(predictions_pred, start=15):\n",
    "    print(f\"Previsão para o índice {i}: {prediction}\")"
   ]
  },
  {
   "cell_type": "code",
   "execution_count": 8,
   "id": "b752dfc3-1507-4b4f-82b4-641f7c5bc6f6",
   "metadata": {
    "tags": []
   },
   "outputs": [
    {
     "name": "stdout",
     "output_type": "stream",
     "text": [
      "Intervalos de confiança para as previsões:         mean   mean_se  mean_ci_lower  mean_ci_upper  obs_ci_lower  \\\n",
      "0   0.000000  0.000000       0.000000       0.000000     -1.225140   \n",
      "1   0.083641  0.013744       0.054644       0.112639     -1.141841   \n",
      "2   0.167283  0.027489       0.109287       0.225279     -1.059229   \n",
      "3   0.250924  0.041233       0.163931       0.337918     -0.977300   \n",
      "4   0.334566  0.054977       0.218574       0.450557     -0.896053   \n",
      "5   0.418207  0.068721       0.273218       0.563197     -0.815482   \n",
      "6   0.501849  0.082466       0.327861       0.675836     -0.735584   \n",
      "7   0.585490  0.096210       0.382505       0.788475     -0.656351   \n",
      "8   0.669132  0.109954       0.437148       0.901115     -0.577778   \n",
      "9   0.752773  0.123699       0.491792       1.013754     -0.499856   \n",
      "10  0.836415  0.137443       0.546436       1.126394     -0.422575   \n",
      "11  0.920056  0.151187       0.601079       1.239033     -0.345927   \n",
      "12  1.003697  0.164931       0.655723       1.351672     -0.269901   \n",
      "13  1.087339  0.178676       0.710366       1.464312     -0.194486   \n",
      "14  1.170980  0.192420       0.765010       1.576951     -0.119670   \n",
      "15  1.254622  0.206164       0.819653       1.689590     -0.045442   \n",
      "16  1.338263  0.219909       0.874297       1.802230      0.028213   \n",
      "17  1.421905  0.233653       0.928940       1.914869      0.101306   \n",
      "\n",
      "    obs_ci_upper  \n",
      "0       1.225140  \n",
      "1       1.309124  \n",
      "2       1.393795  \n",
      "3       1.479149  \n",
      "4       1.565184  \n",
      "5       1.651897  \n",
      "6       1.739281  \n",
      "7       1.827332  \n",
      "8       1.916041  \n",
      "9       2.005402  \n",
      "10      2.095404  \n",
      "11      2.186039  \n",
      "12      2.277296  \n",
      "13      2.369164  \n",
      "14      2.461631  \n",
      "15      2.554685  \n",
      "16      2.648314  \n",
      "17      2.742504  \n"
     ]
    }
   ],
   "source": [
    "# Obtenha o objeto de resultados da regressão\n",
    "results = sm.OLS(y, X).fit()\n",
    "\n",
    "# Obtenha previsões e intervalos de confiança\n",
    "predictions_confint = results.get_prediction(X).summary_frame(alpha=0.05)\n",
    "print(\"Intervalos de confiança para as previsões:\", predictions_confint)"
   ]
  },
  {
   "cell_type": "code",
   "execution_count": null,
   "id": "731a6f66-76b6-4ee7-b551-0bed1022d3b7",
   "metadata": {
    "tags": []
   },
   "outputs": [],
   "source": [
    "2 = 10\n",
    "-3\n",
    "\n",
    "3"
   ]
  },
  {
   "cell_type": "code",
   "execution_count": null,
   "id": "003c36cc-4637-4cb5-83bb-e4ad06e84c4f",
   "metadata": {
    "tags": []
   },
   "outputs": [],
   "source": []
  },
  {
   "cell_type": "code",
   "execution_count": null,
   "id": "e550f443-040f-4db0-8cf8-d14046789c24",
   "metadata": {
    "tags": []
   },
   "outputs": [],
   "source": []
  }
 ],
 "metadata": {
  "kernelspec": {
   "display_name": "Python 3 (ipykernel)",
   "language": "python",
   "name": "python3"
  },
  "language_info": {
   "codemirror_mode": {
    "name": "ipython",
    "version": 3
   },
   "file_extension": ".py",
   "mimetype": "text/x-python",
   "name": "python",
   "nbconvert_exporter": "python",
   "pygments_lexer": "ipython3",
   "version": "3.10.9"
  }
 },
 "nbformat": 4,
 "nbformat_minor": 5
}
