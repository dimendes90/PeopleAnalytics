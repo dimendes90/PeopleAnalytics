{
 "cells": [
  {
   "cell_type": "code",
   "execution_count": 3,
   "id": "524ecebf-8c1a-4e85-ab27-f4d5629480f6",
   "metadata": {
    "tags": []
   },
   "outputs": [],
   "source": [
    "##NLTK"
   ]
  },
  {
   "cell_type": "code",
   "execution_count": 1,
   "id": "67d19d7f-78e4-4d01-ae04-8b082bbef8ff",
   "metadata": {
    "tags": []
   },
   "outputs": [],
   "source": [
    "import pandas as pd\n",
    "from sklearn.model_selection import train_test_split\n",
    "from sklearn.feature_extraction.text import CountVectorizer\n",
    "from sklearn.naive_bayes import MultinomialNB\n",
    "from sklearn.metrics import accuracy_score"
   ]
  },
  {
   "cell_type": "code",
   "execution_count": null,
   "id": "f1f139a7-2b8d-4d4f-8e4c-ea0b6d15b808",
   "metadata": {},
   "outputs": [],
   "source": [
    "\n",
    "# Carregar dados\n",
    "data = pd.read_csv('dados.csv')  # Substitua 'dados.csv' pelo nome do seu arquivo de dados\n"
   ]
  },
  {
   "cell_type": "code",
   "execution_count": null,
   "id": "127e2598-bbc2-47c9-8605-fa80209d817a",
   "metadata": {},
   "outputs": [],
   "source": [
    "# Dividir dados em conjunto de treinamento e teste\n",
    "X_train, X_test, y_train, y_test = train_test_split(data['texto'], data['sentimento'], test_size=0.2, random_state=42)\n"
   ]
  },
  {
   "cell_type": "code",
   "execution_count": null,
   "id": "1ab126fa-e4fb-460e-ac9b-7e15d499edaf",
   "metadata": {},
   "outputs": [],
   "source": [
    "# Vetorização de texto\n",
    "vectorizer = CountVectorizer()\n",
    "X_train_counts = vectorizer.fit_transform(X_train)\n",
    "X_test_counts = vectorizer.transform(X_test)\n"
   ]
  },
  {
   "cell_type": "code",
   "execution_count": null,
   "id": "d280efad-81d5-4aff-b1a6-8b8c259ce719",
   "metadata": {},
   "outputs": [],
   "source": [
    "# Treinar modelo de classificação (usando Naive Bayes como exemplo)\n",
    "clf = MultinomialNB()\n",
    "clf.fit(X_train_counts, y_train)\n"
   ]
  },
  {
   "cell_type": "code",
   "execution_count": null,
   "id": "eea0525c-f125-4e04-a44a-d806f625d581",
   "metadata": {},
   "outputs": [],
   "source": [
    "# Fazer previsões\n",
    "predictions = clf.predict(X_test_counts)\n"
   ]
  },
  {
   "cell_type": "code",
   "execution_count": null,
   "id": "7a2cf733-3f83-4377-a7b0-6e343dc4bd7f",
   "metadata": {},
   "outputs": [],
   "source": [
    "# Avaliar precisão\n",
    "accuracy = accuracy_score(y_test, predictions)\n",
    "print(\"Precisão do modelo:\", accuracy)"
   ]
  },
  {
   "cell_type": "code",
   "execution_count": null,
   "id": "d85fa013-7af2-4d7f-8f3d-f0b0fccba6b4",
   "metadata": {},
   "outputs": [],
   "source": []
  },
  {
   "cell_type": "code",
   "execution_count": null,
   "id": "507a2e55-42c6-471e-85aa-b666007b69a7",
   "metadata": {},
   "outputs": [],
   "source": []
  },
  {
   "cell_type": "code",
   "execution_count": null,
   "id": "91765c85-e7c5-4afe-9803-8de333b3648a",
   "metadata": {},
   "outputs": [],
   "source": []
  },
  {
   "cell_type": "code",
   "execution_count": null,
   "id": "dcfbe4bc-1b3d-4d89-9037-2b96e1baca9a",
   "metadata": {},
   "outputs": [],
   "source": []
  },
  {
   "cell_type": "code",
   "execution_count": null,
   "id": "a8c9992d-ff68-4178-bf0d-4b43190f3aa1",
   "metadata": {},
   "outputs": [],
   "source": []
  },
  {
   "cell_type": "code",
   "execution_count": null,
   "id": "7a6037a1-5dee-4467-bd43-66a6c0d1be9c",
   "metadata": {},
   "outputs": [],
   "source": []
  },
  {
   "cell_type": "code",
   "execution_count": null,
   "id": "c85281f6-d1fc-4e96-9947-7a3b4197216b",
   "metadata": {},
   "outputs": [],
   "source": []
  },
  {
   "cell_type": "code",
   "execution_count": null,
   "id": "f023c2fc-3568-4267-8309-bc3acc9b7355",
   "metadata": {},
   "outputs": [],
   "source": []
  },
  {
   "cell_type": "code",
   "execution_count": null,
   "id": "3b38b684-6107-41d6-bf70-54ed0dacab97",
   "metadata": {},
   "outputs": [],
   "source": []
  }
 ],
 "metadata": {
  "kernelspec": {
   "display_name": "Python 3 (ipykernel)",
   "language": "python",
   "name": "python3"
  },
  "language_info": {
   "codemirror_mode": {
    "name": "ipython",
    "version": 3
   },
   "file_extension": ".py",
   "mimetype": "text/x-python",
   "name": "python",
   "nbconvert_exporter": "python",
   "pygments_lexer": "ipython3",
   "version": "3.10.9"
  }
 },
 "nbformat": 4,
 "nbformat_minor": 5
}
