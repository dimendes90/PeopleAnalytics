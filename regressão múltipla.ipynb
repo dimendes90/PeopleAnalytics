{
 "cells": [
  {
   "cell_type": "code",
   "execution_count": null,
   "id": "ca9b9240-b808-4a39-9dfb-e23476befdc4",
   "metadata": {},
   "outputs": [],
   "source": [
    "regressão múltipla"
   ]
  },
  {
   "cell_type": "code",
   "execution_count": 1,
   "id": "c35ddf9b-dd93-458e-ad48-9ca90a9e4661",
   "metadata": {
    "tags": []
   },
   "outputs": [],
   "source": [
    "import pandas as pd\n",
    "import statsmodels.api as sm\n"
   ]
  },
  {
   "cell_type": "code",
   "execution_count": 2,
   "id": "729c4fe2-763b-4bf1-ae6b-9f650f0a1b94",
   "metadata": {
    "tags": []
   },
   "outputs": [],
   "source": [
    "# Crie um DataFrame com seus dados\n",
    "data = {\n",
    "    'nivel_cargo': [1,2,3,4,5,6,7,8,9,10,11,12,13,14,15],\n",
    "    'nota_avaliacao': [92,68,63,100,56,62,45,32,67,15,29,40,40,79,50], \n",
    "    'tamanho_populacao': [9,435,26,1,4,170,273,233,23,160,106,90,32,24,12]\n",
    "}\n",
    "df = pd.DataFrame(data)"
   ]
  },
  {
   "cell_type": "code",
   "execution_count": 3,
   "id": "357d0c0d-6cf0-46fa-a67e-103b34aa9221",
   "metadata": {
    "tags": []
   },
   "outputs": [],
   "source": [
    "# Adicione uma constante para a interceptação no modelo\n",
    "df['constante'] = 1\n",
    "# Defina as variáveis independentes (X) e a variável dependente (y)\n",
    "X = df[['constante', 'nivel_cargo', 'tamanho_populacao']]\n",
    "y = df['nota_avaliacao']\n"
   ]
  },
  {
   "cell_type": "code",
   "execution_count": 4,
   "id": "0fe6ad26-adc8-42c0-81bf-9397eb90d0da",
   "metadata": {
    "tags": []
   },
   "outputs": [
    {
     "name": "stdout",
     "output_type": "stream",
     "text": [
      "                            OLS Regression Results                            \n",
      "==============================================================================\n",
      "Dep. Variable:         nota_avaliacao   R-squared:                       0.438\n",
      "Model:                            OLS   Adj. R-squared:                  0.344\n",
      "Method:                 Least Squares   F-statistic:                     4.675\n",
      "Date:                Wed, 17 Apr 2024   Prob (F-statistic):             0.0315\n",
      "Time:                        16:46:19   Log-Likelihood:                -63.834\n",
      "No. Observations:                  15   AIC:                             133.7\n",
      "Df Residuals:                      12   BIC:                             135.8\n",
      "Df Model:                           2                                         \n",
      "Covariance Type:            nonrobust                                         \n",
      "=====================================================================================\n",
      "                        coef    std err          t      P>|t|      [0.025      0.975]\n",
      "-------------------------------------------------------------------------------------\n",
      "constante            90.6247     12.416      7.299      0.000      63.573     117.676\n",
      "nivel_cargo          -3.2322      1.179     -2.742      0.018      -5.800      -0.664\n",
      "tamanho_populacao    -0.0835      0.042     -2.008      0.068      -0.174       0.007\n",
      "==============================================================================\n",
      "Omnibus:                        0.344   Durbin-Watson:                   2.276\n",
      "Prob(Omnibus):                  0.842   Jarque-Bera (JB):                0.388\n",
      "Skew:                           0.290   Prob(JB):                        0.823\n",
      "Kurtosis:                       2.467   Cond. No.                         411.\n",
      "==============================================================================\n",
      "\n",
      "Notes:\n",
      "[1] Standard Errors assume that the covariance matrix of the errors is correctly specified.\n"
     ]
    },
    {
     "name": "stderr",
     "output_type": "stream",
     "text": [
      "/opt/conda/lib/python3.10/site-packages/scipy/stats/_stats_py.py:1769: UserWarning: kurtosistest only valid for n>=20 ... continuing anyway, n=15\n",
      "  warnings.warn(\"kurtosistest only valid for n>=20 ... continuing \"\n"
     ]
    }
   ],
   "source": [
    "# Crie o modelo de regressão múltipla\n",
    "modelo = sm.OLS(y, X).fit()\n",
    "# Imprima o resumo do modelo\n",
    "print(modelo.summary())"
   ]
  },
  {
   "cell_type": "code",
   "execution_count": null,
   "id": "72eae00a-ea16-4897-a1d6-30b59994e195",
   "metadata": {},
   "outputs": [],
   "source": []
  },
  {
   "cell_type": "code",
   "execution_count": null,
   "id": "777b6085-7455-48e2-8027-309b298e43c1",
   "metadata": {},
   "outputs": [],
   "source": []
  }
 ],
 "metadata": {
  "kernelspec": {
   "display_name": "Python 3 (ipykernel)",
   "language": "python",
   "name": "python3"
  },
  "language_info": {
   "codemirror_mode": {
    "name": "ipython",
    "version": 3
   },
   "file_extension": ".py",
   "mimetype": "text/x-python",
   "name": "python",
   "nbconvert_exporter": "python",
   "pygments_lexer": "ipython3",
   "version": "3.10.9"
  }
 },
 "nbformat": 4,
 "nbformat_minor": 5
}
