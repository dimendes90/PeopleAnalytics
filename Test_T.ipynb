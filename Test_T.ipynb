{
 "cells": [
  {
   "cell_type": "code",
   "execution_count": null,
   "id": "f57d20cd-f3f6-4e50-bff8-fe35d4679bb7",
   "metadata": {},
   "outputs": [],
   "source": []
  },
  {
   "cell_type": "code",
   "execution_count": null,
   "id": "a103e322-5adf-4ebf-93bb-0766813b5830",
   "metadata": {
    "tags": []
   },
   "outputs": [],
   "source": [
    "!pip install openpyxl\n",
    "!pip install pandas-profiling\n",
    "\n",
    "import matplotlib.pyplot as plt\n",
    "import pandas as pd\n",
    "import numpy as np\n",
    "import matplotlib.pyplot as plt\n",
    "import seaborn as sns\n",
    "import matplotlib.pyplot as plt\n",
    "\n",
    "from sklearn.linear_model import LinearRegression\n",
    "from sklearn.cluster import KMeans\n",
    "from scipy.stats import ttest_ind\n",
    "from scipy.stats import chi2_contingency\n",
    "\n",
    "print(\"Carreado\")\n"
   ]
  },
  {
   "cell_type": "code",
   "execution_count": null,
   "id": "fd827d88-3d51-45e9-98d4-e8d4c610d39d",
   "metadata": {
    "tags": []
   },
   "outputs": [],
   "source": []
  },
  {
   "cell_type": "code",
   "execution_count": 3,
   "id": "084bf6e7-f605-4229-920b-55652e77e5b8",
   "metadata": {
    "tags": []
   },
   "outputs": [],
   "source": [
    "# Ler o arquivo de dados\n",
    "data = pd.read_excel('TesteT_DK.xlsx')\n",
    "#data=data[data['conceito_2023_POS']!= \"Sem Avaliação\"]  #Eliminar Não Avaliado\n",
    "#data=data[data['num_conceito_2023_POS']!= \"S\"]  #Eliminar nao avaliado de novo\n",
    "#data.head(5)"
   ]
  },
  {
   "cell_type": "code",
   "execution_count": null,
   "id": "0294620e-b1eb-4460-9e4a-56da7a794427",
   "metadata": {
    "tags": []
   },
   "outputs": [],
   "source": [
    "#data.columns"
   ]
  },
  {
   "cell_type": "code",
   "execution_count": null,
   "id": "c00e6c32-4ff9-42b9-907e-a6d337a71644",
   "metadata": {},
   "outputs": [],
   "source": []
  },
  {
   "cell_type": "code",
   "execution_count": null,
   "id": "2a84d066-f119-4ea1-af24-1736cba99c8b",
   "metadata": {},
   "outputs": [],
   "source": []
  },
  {
   "cell_type": "code",
   "execution_count": null,
   "id": "d85074d9-ced3-4c0b-ad99-d27e1ab4a929",
   "metadata": {},
   "outputs": [],
   "source": []
  },
  {
   "cell_type": "code",
   "execution_count": null,
   "id": "aa51522b-07c9-41ba-bcbc-7636baf6d54e",
   "metadata": {
    "tags": []
   },
   "outputs": [],
   "source": [
    "#data=data[data['Class_nivel']!= \"1 - Operação\"]  #Eliminar Oper\n",
    "data=data[data['Gênero_Líder']== \"Feminino\"]  #OLHAR SOMENTE GESTOR do Gênero...."
   ]
  },
  {
   "cell_type": "code",
   "execution_count": null,
   "id": "19fab18e-4c68-4832-b78f-02465335fa5e",
   "metadata": {
    "tags": []
   },
   "outputs": [],
   "source": []
  },
  {
   "cell_type": "code",
   "execution_count": 4,
   "id": "97c8fb30-713d-4521-9e2b-21a90c5e35ae",
   "metadata": {
    "tags": []
   },
   "outputs": [
    {
     "name": "stdout",
     "output_type": "stream",
     "text": [
      "5.83445945945946\n",
      "5.623853211009174\n"
     ]
    }
   ],
   "source": [
    "avaliacao_homens = data[data[\"Genero\"] == \"Masculino\"][\"eNPs\"]\n",
    "avaliacao_mulheres = data[data[\"Genero\"] == \"Feminino\"][\"eNPs\"]\n",
    "\n",
    "media_homens = avaliacao_homens.mean()\n",
    "media_mulheres = avaliacao_mulheres.mean()\n",
    "print(media_homens)\n",
    "print(media_mulheres)"
   ]
  },
  {
   "cell_type": "code",
   "execution_count": 5,
   "id": "15b2bec6-4ec0-40d6-9845-c5ecf3001dc6",
   "metadata": {
    "tags": []
   },
   "outputs": [
    {
     "name": "stdout",
     "output_type": "stream",
     "text": [
      "Não há diferença significativa entre as de avaliação dos grupos de Homens e Mulheres.\n",
      "0.3605753059836916\n"
     ]
    }
   ],
   "source": [
    "#test t\n",
    "t, p = ttest_ind(avaliacao_homens, avaliacao_mulheres, equal_var=False)\n",
    "\n",
    "if p < 0.05:\n",
    "    print(\"Há diferença significativa entre as médias de avaliação dos grupos de Homens e Mulheres.\")\n",
    "    print(p) \n",
    "else:\n",
    "    print(\"Não há diferença significativa entre as de avaliação dos grupos de Homens e Mulheres.\")\n",
    "    print(p)"
   ]
  },
  {
   "cell_type": "code",
   "execution_count": null,
   "id": "7fcaa07f-543f-4ab3-999b-f30dffcbd35a",
   "metadata": {
    "tags": []
   },
   "outputs": [],
   "source": [
    "p"
   ]
  },
  {
   "cell_type": "code",
   "execution_count": null,
   "id": "054225c7-f2bb-4e5f-b92f-47a14b80059c",
   "metadata": {},
   "outputs": [],
   "source": []
  },
  {
   "cell_type": "code",
   "execution_count": null,
   "id": "70efebe6-d22b-4182-89a6-30646dea4625",
   "metadata": {},
   "outputs": [],
   "source": []
  },
  {
   "cell_type": "code",
   "execution_count": null,
   "id": "74164c7b-0c0a-4fdc-a079-8d74d8ba7656",
   "metadata": {
    "tags": []
   },
   "outputs": [],
   "source": []
  },
  {
   "cell_type": "code",
   "execution_count": null,
   "id": "160d38f5-3a61-42e2-afbc-289cf27120f9",
   "metadata": {
    "tags": []
   },
   "outputs": [],
   "source": []
  },
  {
   "cell_type": "code",
   "execution_count": null,
   "id": "7fa2e671-18fe-4590-b541-f3615e1af8af",
   "metadata": {},
   "outputs": [],
   "source": []
  },
  {
   "cell_type": "code",
   "execution_count": null,
   "id": "953ad6a8-6510-479c-aeeb-11d04af92c93",
   "metadata": {
    "tags": []
   },
   "outputs": [],
   "source": [
    "# Ler o arquivo de dados\n",
    "data = pd.read_excel('Base_Pre_Py_2023_1.xlsx')\n",
    "data=data[data['conceito_2023_pre']!= \"Sem Avaliação\"]  #Eliminar Não Avaliado\n",
    "data=data[data['num_conceito_2023_POS']!= \"S\"]  #Eliminar nao avaliado de novo\n",
    "#data.head(5)"
   ]
  },
  {
   "cell_type": "code",
   "execution_count": null,
   "id": "50d2ae74-9ff2-481e-8709-ccc2eeec8722",
   "metadata": {},
   "outputs": [],
   "source": [
    "#raca_lider\n",
    "data=data[data['raca_lider']== \"Brancos e Amarelos\"]  #OLHAR SOMENTE GESTOR do Raça/Cor...."
   ]
  },
  {
   "cell_type": "code",
   "execution_count": null,
   "id": "672bfd62-3fab-4175-9ee5-35017d05c53a",
   "metadata": {
    "tags": []
   },
   "outputs": [],
   "source": [
    "avaliacao_Brancos = data[data[\"Clas_Raça/Cor\"] == \"Brancos e Amarelos\"][\"num_conceito_2023_POS\"]\n",
    "avaliacao_Pretos = data[data[\"Clas_Raça/Cor\"] == \"Pretos e Pardos\"][\"num_conceito_2023_POS\"]\n",
    "\n",
    "media_B = avaliacao_Brancos.mean()\n",
    "media_P = avaliacao_Pretos.mean()\n",
    "print(media_B)\n",
    "print(media_P)"
   ]
  },
  {
   "cell_type": "code",
   "execution_count": null,
   "id": "059cec9c-8a7b-4b41-a8ef-8dd5db58cfd2",
   "metadata": {},
   "outputs": [],
   "source": [
    "#test t\n",
    "t, p = ttest_ind(avaliacao_Brancos, avaliacao_Pretos, equal_var=False)\n",
    "if p < 0.05:\n",
    "    print(\"Há diferença significativa entre as médias de avaliação dos grupos de Pretos e Brancos.\")\n",
    "    print(p)\n",
    "else:\n",
    "    print(\"Não há diferença significativa entre as de avaliação dos grupos de Pretos e Brancos.\")\n",
    "    print(p)"
   ]
  },
  {
   "cell_type": "code",
   "execution_count": null,
   "id": "1baf9193-1290-4040-a080-c4a7f5de6beb",
   "metadata": {
    "tags": []
   },
   "outputs": [],
   "source": []
  },
  {
   "cell_type": "code",
   "execution_count": null,
   "id": "f3c9c9f1-c6b2-479f-b0dc-9c8806b9e2f0",
   "metadata": {},
   "outputs": [],
   "source": []
  },
  {
   "cell_type": "code",
   "execution_count": null,
   "id": "5c0f8603-03fc-4a03-ae6f-d256958c2f32",
   "metadata": {
    "tags": []
   },
   "outputs": [],
   "source": [
    "idade = data[\"Idade (anos)\"]\n",
    "Avaliacao = data[\"Nota Final_sem_calibracao\"]"
   ]
  },
  {
   "cell_type": "code",
   "execution_count": null,
   "id": "5701a121-caca-4c61-8cc8-f26b0787b5f1",
   "metadata": {
    "tags": []
   },
   "outputs": [],
   "source": [
    "plt.scatter(idade,Avaliacao)"
   ]
  },
  {
   "cell_type": "code",
   "execution_count": null,
   "id": "b312b933-0e31-4a0d-80a1-a073624034ef",
   "metadata": {
    "tags": []
   },
   "outputs": [],
   "source": [
    "plt.show"
   ]
  },
  {
   "cell_type": "code",
   "execution_count": null,
   "id": "45b47ed6-b7c2-496d-aee8-91ea2fd49452",
   "metadata": {},
   "outputs": [],
   "source": []
  },
  {
   "cell_type": "code",
   "execution_count": 4,
   "id": "9e94e4c9-d148-46b0-8f81-cc630c7ff928",
   "metadata": {
    "tags": []
   },
   "outputs": [],
   "source": [
    "#Test Qui-Quadrado\n",
    "\n",
    "indicacao_Merito_Feminino = [100,4564]\n",
    "indicacao_Merito_Masculino = [71, 5300]\n"
   ]
  },
  {
   "cell_type": "code",
   "execution_count": 5,
   "id": "2a21ee11-6417-41ec-9872-1211a283a114",
   "metadata": {
    "tags": []
   },
   "outputs": [],
   "source": [
    "contingency_table = np.array([indicacao_Merito_Feminino, indicacao_Merito_Masculino])\n",
    "\n",
    "chi2, p, dof, expected = chi2_contingency(contingency_table)"
   ]
  },
  {
   "cell_type": "code",
   "execution_count": null,
   "id": "ee51c4c3-5bcf-4dc7-9cb4-b50a788468d1",
   "metadata": {
    "tags": []
   },
   "outputs": [],
   "source": []
  },
  {
   "cell_type": "code",
   "execution_count": 6,
   "id": "6f87a2b4-b0ab-4cce-9ad6-a9d862c435e6",
   "metadata": {
    "tags": []
   },
   "outputs": [
    {
     "name": "stdout",
     "output_type": "stream",
     "text": [
      "Estatística Qui-quadrado: 9.589165641081651\n",
      "Há diferença significativa entre Homens e Mulheres.\n",
      "0.001957288687526141\n",
      "Valor de p: 0.001957288687526141\n",
      "Graus de liberdade: 1\n",
      "Tabela de frequências esperadas:\n",
      "[[  79.47623318 4584.52376682]\n",
      " [  91.52376682 5279.47623318]]\n"
     ]
    }
   ],
   "source": [
    "# Imprima os resultados\n",
    "print(\"Estatística Qui-quadrado:\", chi2)\n",
    "if p < 0.05:\n",
    "    print(\"Há diferença significativa entre Homens e Mulheres.\")\n",
    "    print(p)\n",
    "else:\n",
    "    print(\"Não há diferença significativa entre Homens e Mulheres.\")\n",
    "    print(p)\n",
    "print(\"Valor de p:\", p)\n",
    "print(\"Graus de liberdade:\", dof)\n",
    "print(\"Tabela de frequências esperadas:\")\n",
    "print(expected)"
   ]
  },
  {
   "cell_type": "code",
   "execution_count": null,
   "id": "0ca8954b-919a-48d6-ab9b-95e65c678117",
   "metadata": {},
   "outputs": [],
   "source": [
    "#--fim --"
   ]
  },
  {
   "cell_type": "code",
   "execution_count": null,
   "id": "f4ac1198-2a50-40b5-8cc0-63a4885ffdab",
   "metadata": {},
   "outputs": [],
   "source": []
  }
 ],
 "metadata": {
  "kernelspec": {
   "display_name": "Python 3 (ipykernel)",
   "language": "python",
   "name": "python3"
  },
  "language_info": {
   "codemirror_mode": {
    "name": "ipython",
    "version": 3
   },
   "file_extension": ".py",
   "mimetype": "text/x-python",
   "name": "python",
   "nbconvert_exporter": "python",
   "pygments_lexer": "ipython3",
   "version": "3.10.9"
  }
 },
 "nbformat": 4,
 "nbformat_minor": 5
}
