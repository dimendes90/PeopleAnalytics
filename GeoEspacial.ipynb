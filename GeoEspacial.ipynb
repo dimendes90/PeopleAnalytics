{
 "cells": [
  {
   "cell_type": "code",
   "execution_count": null,
   "id": "6e5487bd-3af2-485e-a11f-606e5a7db5d4",
   "metadata": {
    "tags": []
   },
   "outputs": [],
   "source": [
    "#GeoEspacial\n",
    "#!pip install geocoder"
   ]
  },
  {
   "cell_type": "code",
   "execution_count": null,
   "id": "7e77f966-3280-48dd-bddd-ce64c3d8190b",
   "metadata": {
    "tags": []
   },
   "outputs": [],
   "source": [
    "import csv\n",
    "import requests"
   ]
  },
  {
   "cell_type": "code",
   "execution_count": null,
   "id": "247ae1e0-8d6b-4b6a-b146-1d4f5ccdf305",
   "metadata": {
    "tags": []
   },
   "outputs": [],
   "source": []
  },
  {
   "cell_type": "code",
   "execution_count": 51,
   "id": "ad00b9ca-3966-4246-adee-511e9843260a",
   "metadata": {
    "tags": []
   },
   "outputs": [
    {
     "name": "stdout",
     "output_type": "stream",
     "text": [
      "RODOU\n"
     ]
    }
   ],
   "source": [
    "def obter_coordenadas(cidade):\n",
    "    try:\n",
    "        url = f'https://maps.googleapis.com/maps/api/geocode/json?address={cidade}&sensor=false'\n",
    "        response = requests.get(url)\n",
    "        data = response.json()\n",
    "        if data['status'] == 'OK':\n",
    "            latitude = data['results'][0]['geometry']['location']['lat']\n",
    "            longitude = data['results'][0]['geometry']['location']['lng']\n",
    "            return latitude, longitude\n",
    "        else:\n",
    "            return None\n",
    "    except Exception as e:\n",
    "        print(f\"Ocorreu um erro: {e}\")\n",
    "        return None\n",
    "# Abrir arquivo de entrada\n",
    "with open('cidade_geoespacial_202403.csv', mode='r', encoding='utf-8') as arquivo_entrada:\n",
    "    leitor_csv = csv.reader(arquivo_entrada)\n",
    "    cabecalho = next(leitor_csv)  # Pula o cabeçalho\n",
    "    cidades = [linha[0] for linha in leitor_csv]  # Lê apenas a primeira coluna (nomes das cidades)\n",
    "# Processar as cidades e obter as coordenadas\n",
    "coordenadas_cidades = []\n",
    "for cidade in cidades:\n",
    "    coordenadas = obter_coordenadas(cidade)\n",
    "    if coordenadas:\n",
    "        coordenadas_cidades.append((cidade, coordenadas[0], coordenadas[1]))\n",
    "# Escrever as coordenadas em um novo arquivo CSV\n",
    "with open('coordenadas_cidades_google.csv', mode='w', encoding='utf-8', newline='') as arquivo_saida:\n",
    "    escritor_csv = csv.writer(arquivo_saida)\n",
    "    escritor_csv.writerow(['Cidade', 'Latitude', 'Longitude'])  # Escreve cabeçalho\n",
    "    for cidade, latitude, longitude in coordenadas_cidades:\n",
    "        escritor_csv.writerow([cidade, latitude, longitude])\n",
    "print(\"RODOU\")"
   ]
  },
  {
   "cell_type": "code",
   "execution_count": 52,
   "id": "71e6107e-f241-48b4-9cda-d31325ee7ea3",
   "metadata": {
    "tags": []
   },
   "outputs": [
    {
     "data": {
      "text/plain": [
       "'Sao Cristovao'"
      ]
     },
     "execution_count": 52,
     "metadata": {},
     "output_type": "execute_result"
    }
   ],
   "source": [
    "cidade"
   ]
  },
  {
   "cell_type": "code",
   "execution_count": null,
   "id": "8f8fa2c0-b79a-4a61-9407-e7c8eb5badb0",
   "metadata": {
    "tags": []
   },
   "outputs": [],
   "source": []
  },
  {
   "cell_type": "code",
   "execution_count": null,
   "id": "2987a658-c890-4f17-a18b-59ad80cb2303",
   "metadata": {
    "tags": []
   },
   "outputs": [],
   "source": []
  },
  {
   "cell_type": "code",
   "execution_count": null,
   "id": "6074e41d-27bb-4a7b-a92f-b3beca749788",
   "metadata": {
    "tags": []
   },
   "outputs": [],
   "source": [
    "print(\"ok\")"
   ]
  },
  {
   "cell_type": "code",
   "execution_count": null,
   "id": "7207beb0-4803-4504-a12b-c5c2c9d0732f",
   "metadata": {},
   "outputs": [],
   "source": []
  },
  {
   "cell_type": "code",
   "execution_count": null,
   "id": "2002738f-f8fe-4bac-aca5-48a56a82cac6",
   "metadata": {
    "tags": []
   },
   "outputs": [],
   "source": []
  },
  {
   "cell_type": "code",
   "execution_count": null,
   "id": "4fd22d1f-14e9-4c90-8b08-2fb099fcb73a",
   "metadata": {},
   "outputs": [],
   "source": []
  }
 ],
 "metadata": {
  "kernelspec": {
   "display_name": "Python 3 (ipykernel)",
   "language": "python",
   "name": "python3"
  },
  "language_info": {
   "codemirror_mode": {
    "name": "ipython",
    "version": 3
   },
   "file_extension": ".py",
   "mimetype": "text/x-python",
   "name": "python",
   "nbconvert_exporter": "python",
   "pygments_lexer": "ipython3",
   "version": "3.10.9"
  }
 },
 "nbformat": 4,
 "nbformat_minor": 5
}
